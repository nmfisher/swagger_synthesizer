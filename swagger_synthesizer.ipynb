{
 "cells": [
  {
   "cell_type": "code",
   "execution_count": null,
   "metadata": {
    "collapsed": true
   },
   "outputs": [],
   "source": [
    "from swagger_parser import SwaggerParser\n",
    "\n",
    "parser = SwaggerParser(swagger_path='swagger.json')  # Init with file\n",
    "\n",
    "# Get an example of dict for the definition Foo\n",
    "parser.definitions_example.get('Pet')"
   ]
  },
  {
   "cell_type": "code",
   "execution_count": 1,
   "metadata": {
    "collapsed": true
   },
   "outputs": [],
   "source": [
    "import json\n",
    "\n",
    "with open(\"swagger.json\",\"r\") as infile:\n",
    "    swagger = json.load(infile)"
   ]
  },
  {
   "cell_type": "code",
   "execution_count": 2,
   "metadata": {
    "collapsed": true
   },
   "outputs": [],
   "source": [
    "from faker import Faker\n",
    "from chance import chance\n",
    "import random\n",
    "fake = Faker()\n",
    "\n"
   ]
  },
  {
   "cell_type": "code",
   "execution_count": 74,
   "metadata": {
    "collapsed": true
   },
   "outputs": [],
   "source": [
    "property_generators = {\n",
    "    \"name\":lambda x: fake.name(),\n",
    "    \"date-time\": lambda x: fake.date_time(),\n",
    "    \"username\":lambda x: chance.email(),\n",
    "    \"email\": lambda x: chance.email(),\n",
    "    \"id\":lambda x: fake.uuid4(),\n",
    "    \"quantity\":lambda x: random.randint(0,100),\n",
    "    \"integer\":lambda x: random.randint(0,100),\n",
    "    \"bool\": lambda x: chance.boolean(),\n",
    "    \"boolean\": lambda x: chance.boolean(),\n",
    "    \"firstName\": lambda x: fake.name().split(\" \")[0],\n",
    "    \"lastName\": lambda x: fake.name().split(\" \")[-1],\n",
    "    \"password\": lambda x: fake.password(),\n",
    "    \"phone\": lambda x: fake.phone_number(),\n",
    "    \"url\": lambda x: chance.url(),\n",
    "    \"enum\": lambda x: random.choice(x[0][\"enum\"]),\n",
    "    \"array\": lambda x: [x[1] + str(i) for i in range(random.randint(1,10))],\n",
    "    \"$ref\": lambda x: list(generate(x[0][\"$ref\"].split(\"/\")[-1])),\n",
    "}\n",
    "\n",
    "object_generators = {}\n",
    "\n",
    "def generate_from_property_key(k, prop,prop_name):\n",
    "    #print(\"--\" + k)\n",
    "    if k in property_generators:\n",
    "        return property_generators[k]((prop,prop_name))\n",
    "    elif prop[k] in property_generators:\n",
    "        return property_generators[prop[k]]((prop,prop_name))\n",
    "    \n",
    "           \n",
    "def generate_property_value(prop, prop_name):    \n",
    "    if prop_name in property_generators:\n",
    "        val = property_generators[prop_name]((prop,prop_name))\n",
    "        if val is not None:\n",
    "            #print(\"---\" + str(val))\n",
    "            return val\n",
    "    \n",
    "    # iterate through object keys for the property\n",
    "    for key in prop.keys():\n",
    "        val = generate_from_property_key(key, prop, prop_name)\n",
    "        if val is not None:\n",
    "            #print(\"---\" + str(val))\n",
    "            return val\n",
    "        #else:\n",
    "            #print(\"---NONE\")\n",
    "    raise Exception(prop)\n",
    "\n",
    "def get_generator_for_definition(definition_name):\n",
    "    definition = swagger['definitions'][definition_name] \n",
    "    def object_generator():\n",
    "        instance = {}\n",
    "        \n",
    "        # iterate through properties \n",
    "        for prop_name in definition['properties']:\n",
    "            #print(\"-\" + prop_name)\n",
    "            prop = definition['properties'][prop_name]\n",
    "            try:\n",
    "                generated_prop = generate_property_value(prop, prop_name)\n",
    "            except Exception as e:\n",
    "                print(prop_name)\n",
    "                raise e\n",
    "            instance[prop_name] = generated_prop\n",
    "        yield instance\n",
    "    return object_generator\n",
    "    \n",
    "for definition_name in swagger[\"definitions\"]:\n",
    "    object_generators[definition_name] = get_generator_for_definition(definition_name)\n",
    "\n",
    "def generate(obj_name):\n",
    "    print(obj_name)\n",
    "    if obj_name not in object_generators:\n",
    "        raise Exception(\"Object \" + obj_name + \" is unknown\")\n",
    "    return object_generators[obj_name]()"
   ]
  },
  {
   "cell_type": "code",
   "execution_count": 72,
   "metadata": {},
   "outputs": [
    {
     "name": "stdout",
     "output_type": "stream",
     "text": [
      "Order\n"
     ]
    },
    {
     "data": {
      "text/plain": [
       "[{'id': '235c9c2e-3fe3-4889-9acb-c082305f277d',\n",
       "  'petId': 44,\n",
       "  'quantity': 77,\n",
       "  'shipDate': datetime.datetime(1996, 6, 24, 21, 14, 39),\n",
       "  'status': 'delivered',\n",
       "  'complete': True}]"
      ]
     },
     "execution_count": 72,
     "metadata": {},
     "output_type": "execute_result"
    }
   ],
   "source": [
    "list(generate(\"Order\"))"
   ]
  },
  {
   "cell_type": "code",
   "execution_count": 102,
   "metadata": {
    "scrolled": true
   },
   "outputs": [
    {
     "name": "stdout",
     "output_type": "stream",
     "text": [
      "Pet\n",
      "Category\n",
      "Pet\n",
      "Category\n",
      "Order\n",
      "User\n",
      "User\n"
     ]
    },
    {
     "data": {
      "text/plain": [
       "[('Add a new pet to the store',\n",
       "  {'id': '67088548-8ffd-4f47-b4ea-1a77ecdf70e7',\n",
       "   'category': [{'id': '35aaf600-abcd-492f-a670-e9f034a6c43b',\n",
       "     'name': 'Robert Howell'}],\n",
       "   'name': 'Debbie Burke',\n",
       "   'photoUrls': ['photoUrls0',\n",
       "    'photoUrls1',\n",
       "    'photoUrls2',\n",
       "    'photoUrls3',\n",
       "    'photoUrls4',\n",
       "    'photoUrls5',\n",
       "    'photoUrls6'],\n",
       "   'tags': ['tags0', 'tags1', 'tags2', 'tags3'],\n",
       "   'status': 'pending'}),\n",
       " ('Update an existing pet',\n",
       "  {'id': '19371716-903a-430e-96bb-71aad717178a',\n",
       "   'category': [{'id': '34e1f7e8-1246-438e-a8a9-0c6a9f7cb9dc',\n",
       "     'name': 'Richard Ramos'}],\n",
       "   'name': 'Angela Henry',\n",
       "   'photoUrls': ['photoUrls0'],\n",
       "   'tags': ['tags0', 'tags1'],\n",
       "   'status': 'sold'}),\n",
       " ('Finds Pets by status', ['status0', 'status1']),\n",
       " ('Finds Pets by tags', ['tags0', 'tags1']),\n",
       " ('Find pet by ID', 'Brandon Santos'),\n",
       " ('Updates a pet in the store with form data', 'Troy Herrera'),\n",
       " ('Deletes a pet', 'Theresa Walker'),\n",
       " ('uploads an image', 'Jessica Williams'),\n",
       " ('Returns pet inventories by status', 'Jessica Williams'),\n",
       " ('Place an order for a pet',\n",
       "  {'id': 'aadbe794-81fb-4555-8ebc-6f598ce155a6',\n",
       "   'petId': 64,\n",
       "   'quantity': 93,\n",
       "   'shipDate': datetime.datetime(2007, 3, 13, 3, 10, 25),\n",
       "   'status': 'approved',\n",
       "   'complete': False}),\n",
       " ('Find purchase order by ID', 'Diane Thomas'),\n",
       " ('Delete purchase order by ID', 'Danielle Cox'),\n",
       " ('Create user',\n",
       "  {'id': 'd515757a-1eef-4635-b050-bf40c29550ad',\n",
       "   'username': 'dinleg@felwagu.com',\n",
       "   'firstName': 'Deanna',\n",
       "   'lastName': 'Levy',\n",
       "   'email': 'zupjowim@bifzuk.com',\n",
       "   'password': 's(V41KDu+Q',\n",
       "   'phone': '001-281-550-9334x99647',\n",
       "   'userStatus': 91}),\n",
       " ('Creates list of users with given input array',\n",
       "  ['body0', 'body1', 'body2', 'body3', 'body4', 'body5']),\n",
       " ('Creates list of users with given input array',\n",
       "  ['body0', 'body1', 'body2', 'body3']),\n",
       " ('Logs user into the system', 'Clinton Ruiz'),\n",
       " ('Logs out current logged in user session', 'Clinton Ruiz'),\n",
       " ('Get user by user name', 'Marcus David'),\n",
       " ('Updated user',\n",
       "  {'id': '6bc13a9b-72a9-4284-8e99-359b28b27fec',\n",
       "   'username': 'fofebic@kogo.eu',\n",
       "   'firstName': 'Tammie',\n",
       "   'lastName': 'Ellis',\n",
       "   'email': 'birnog@binaza.co.uk',\n",
       "   'password': 'D$2$_FuVs3',\n",
       "   'phone': '(826)074-5071x8632',\n",
       "   'userStatus': 29}),\n",
       " ('Delete user', 'Wesley Marks DDS')]"
      ]
     },
     "execution_count": 102,
     "metadata": {},
     "output_type": "execute_result"
    }
   ],
   "source": [
    "summaries = []\n",
    "\n",
    "for path_name in swagger[\"paths\"]:\n",
    "    path = swagger[\"paths\"][path_name]\n",
    "    for method in path:\n",
    "        command = path[method][\"summary\"] if len(path[method][\"summary\"]) > 0 else path[method][\"description\"]\n",
    "        for param in path[method][\"parameters\"]:\n",
    "            if param[\"in\"] == \"header\":\n",
    "                continue\n",
    "           \n",
    "            #if param[\"in\"] == \"path\" or param[\"in\"] == \"query\" or param[\"in\"] == \"body\" or param[\"in\"] == \"formData\":\n",
    "            if \"schema\" in param:\n",
    "                if \"$ref\" in param[\"schema\"]:\n",
    "                    obj = list(generate(param[\"schema\"][\"$ref\"].split(\"/\")[-1]))[0]\n",
    "                elif param[\"schema\"][\"type\"] == \"array\":\n",
    "                    obj = generate_from_property_key(\"array\", param, param[\"name\"])\n",
    "            elif param[\"type\"] == \"array\":\n",
    "                if \"enum\" in param:\n",
    "                    obj = generate_from_property_key(\"enum\", param[\"items\"], param[\"name\"])\n",
    "                else:\n",
    "                    obj = generate_from_property_key(\"array\", param, param[\"name\"])\n",
    "            else:\n",
    "                obj = generate_from_property_key(\"name\", param, param[\"name\"])\n",
    "\n",
    "        summaries.append((command, obj))        \n",
    "summaries"
   ]
  },
  {
   "cell_type": "code",
   "execution_count": 46,
   "metadata": {},
   "outputs": [
    {
     "data": {
      "text/plain": [
       "['Add a new pet to the store',\n",
       " 'Update an existing pet',\n",
       " 'Finds Pets by status',\n",
       " 'Finds Pets by tags',\n",
       " 'Find pet by ID',\n",
       " 'Updates a pet in the store with form data',\n",
       " 'Deletes a pet',\n",
       " 'uploads an image',\n",
       " 'Returns pet inventories by status',\n",
       " 'Place an order for a pet',\n",
       " 'Find purchase order by ID',\n",
       " 'Delete purchase order by ID',\n",
       " 'Create user',\n",
       " 'Creates list of users with given input array',\n",
       " 'Creates list of users with given input array',\n",
       " 'Logs user into the system',\n",
       " 'Logs out current logged in user session',\n",
       " 'Get user by user name',\n",
       " 'Updated user',\n",
       " 'Delete user']"
      ]
     },
     "execution_count": 46,
     "metadata": {},
     "output_type": "execute_result"
    }
   ],
   "source": []
  }
 ],
 "metadata": {
  "kernelspec": {
   "display_name": "Python 3",
   "language": "python",
   "name": "python3"
  },
  "language_info": {
   "codemirror_mode": {
    "name": "ipython",
    "version": 3
   },
   "file_extension": ".py",
   "mimetype": "text/x-python",
   "name": "python",
   "nbconvert_exporter": "python",
   "pygments_lexer": "ipython3",
   "version": "3.6.5"
  }
 },
 "nbformat": 4,
 "nbformat_minor": 2
}
