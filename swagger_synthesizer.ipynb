{
 "cells": [
  {
   "cell_type": "code",
   "execution_count": 140,
   "metadata": {},
   "outputs": [
    {
     "data": {
      "text/plain": [
       "{'id': 42,\n",
       " 'category': {'id': 42, 'name': 'string'},\n",
       " 'name': 'doggie',\n",
       " 'photoUrls': ['string', 'string2'],\n",
       " 'tags': [{'id': 42, 'name': 'string'}],\n",
       " 'status': 'available'}"
      ]
     },
     "execution_count": 140,
     "metadata": {},
     "output_type": "execute_result"
    }
   ],
   "source": [
    "from swagger_parser import SwaggerParser\n",
    "\n",
    "parser = SwaggerParser(swagger_path='swagger.json')  # Init with file\n",
    "\n",
    "# Get an example of dict for the definition Foo\n",
    "parser.definitions_example.get('Pet')"
   ]
  },
  {
   "cell_type": "code",
   "execution_count": 141,
   "metadata": {
    "collapsed": true
   },
   "outputs": [],
   "source": [
    "import json\n",
    "\n",
    "with open(\"swagger.json\",\"r\") as infile:\n",
    "    swagger = json.load(infile)"
   ]
  },
  {
   "cell_type": "code",
   "execution_count": 142,
   "metadata": {
    "collapsed": true
   },
   "outputs": [],
   "source": [
    "from faker import Faker\n",
    "from chance import chance\n",
    "import random\n",
    "fake = Faker()\n"
   ]
  },
  {
   "cell_type": "code",
   "execution_count": 386,
   "metadata": {
    "collapsed": true
   },
   "outputs": [],
   "source": [
    "property_generators = {\n",
    "    \"name\":lambda: fake.name(),\n",
    "    \"date-time\": lambda: fake.date_time(),\n",
    "    \"username\":lambda: chance.email(),\n",
    "    \"email\": lambda: chance.email(),\n",
    "    \"id\":lambda: fake.uuid4(),\n",
    "    \"quantity\":lambda: random.randint(0,100),\n",
    "    \"int\":lambda: random.randint(0,100),\n",
    "    \"integer\":lambda: random.randint(0,100),\n",
    "    \"bool\": lambda: chance.boolean(),\n",
    "    \"boolean\": lambda: chance.boolean(),\n",
    "    \"firstName\": lambda: fake.name().split(\" \")[0],\n",
    "    \"lastName\": lambda: fake.name().split(\" \")[-1],\n",
    "    \"password\": lambda: fake.password(),\n",
    "    \"phone\": lambda: fake.phone_number(),\n",
    "    \"url\": lambda: chance.url(),\n",
    "    \"photoUrls\": lambda: chance.url(),\n",
    "    \"status\": lambda: \"dead\" # this is malformed\n",
    "}\n",
    "\n"
   ]
  },
  {
   "cell_type": "code",
   "execution_count": 387,
   "metadata": {},
   "outputs": [],
   "source": [
    "def generate_from_schema(schema_string):\n",
    "    return lambda: list(generate(schema_string.split(\"/\")[-1]))[0]\n",
    "\n",
    "def generate_array_from_schema(schema_string):\n",
    "    return lambda: [generate_from_schema(schema_string)() for x in range(random.randint(0,10))]\n",
    "\n",
    "def generate_from_enum(enum):\n",
    "    return lambda: [random.choice(enum)]\n",
    "\n",
    "def generate_array_from_enum(enum):\n",
    "    return lambda: [generate_from_enum(enum)() for x in range(random.randint(0,10))]\n",
    "\n",
    "def generate_prop_from_name(name):\n",
    "    return lambda: property_generators[name]() if name in property_generators else None\n",
    "\n",
    "def generate_array_from_name(name):\n",
    "    return lambda: [generate_prop_from_name(name)() for x in range(random.randint(0,10))]\n",
    "\n",
    "def generate_prop_from_type(typ):\n",
    "    return lambda:  property_generators[typ]() \n",
    "\n",
    "def generate_array_from_type(typ):\n",
    "    return lambda:  [property_generators[typ]()]\n"
   ]
  },
  {
   "cell_type": "code",
   "execution_count": 388,
   "metadata": {},
   "outputs": [],
   "source": [
    "def get_parameter_generator_from_definition_property(prop_name, prop_val):\n",
    "    if \"$ref\" in prop_val:\n",
    "        return generate_from_schema(prop_val[\"$ref\"])\n",
    "    elif prop_val[\"type\"] == \"array\" and \"enum\" in prop_val[\"items\"]:\n",
    "        return generate_array_from_enum(prop_val[\"items\"][\"enum\"])\n",
    "    elif prop_val[\"type\"] == \"array\" and \"type\" in prop_val[\"items\"] and prop_val[\"items\"][\"type\"] == \"string\":\n",
    "        return generate_array_from_name(prop_name)\n",
    "    elif prop_val[\"type\"] == \"array\" and \"type\" in prop_val[\"items\"] and prop_val[\"items\"][\"type\"] == \"integer\":\n",
    "        return generate_array_from_type(prop_val[\"items\"][\"type\"])\n",
    "    elif prop_val[\"type\"] == \"array\" and \"$ref\" in prop_val[\"items\"]:\n",
    "        return generate_array_from_schema(prop_val[\"items\"][\"$ref\"])\n",
    "    elif prop_val[\"type\"] == \"string\" and \"enum\" in prop_val:\n",
    "        return generate_from_enum(prop_val[\"enum\"])\n",
    "    elif prop_val[\"type\"] == \"string\":\n",
    "        return generate_prop_from_name(prop_name)\n",
    "    elif prop_val[\"type\"] == \"int\" or prop_val[\"type\"] == \"integer\":\n",
    "        return generate_prop_from_type(prop_val[\"type\"])\n",
    "    else:\n",
    "        raise Exception(prop_name)\n",
    "\n",
    "def get_command_parameter_generator_from_method_param(param):\n",
    "    if \"schema\" in param:\n",
    "        if \"$ref\" in param[\"schema\"]:\n",
    "            return generate_from_schema(param[\"schema\"][\"$ref\"])\n",
    "        elif param[\"schema\"][\"type\"] == \"array\":\n",
    "            return generate_array_from_schema(param[\"schema\"][\"items\"][\"$ref\"])\n",
    "        else: \n",
    "            raise Exception()\n",
    "    elif \"$ref\" in param:\n",
    "        return generate_from_schema(param[\"$ref\"])\n",
    "    elif param[\"type\"] == \"array\" and \"enum\" in param[\"items\"]:\n",
    "        return generate_array_from_enum(param[\"items\"][\"enum\"])\n",
    "    elif param[\"type\"] == \"array\" and param[\"items\"][\"type\"] == \"string\":\n",
    "        return generate_array_from_name(param[\"name\"])\n",
    "    elif param[\"type\"] == \"string\" and \"enum\" in param:\n",
    "        return generate_from_enum(param[\"enum\"])\n",
    "    elif param[\"type\"] == \"string\":\n",
    "        return generate_prop_from_name(param[\"name\"])\n",
    "    elif param[\"type\"] == \"int\":\n",
    "        return generate_prop_from_type(param[\"type\"])"
   ]
  },
  {
   "cell_type": "code",
   "execution_count": 389,
   "metadata": {},
   "outputs": [
    {
     "data": {
      "text/plain": [
       "[{'id': 64,\n",
       "  'category': {'id': 24, 'name': 'Scott Johnson'},\n",
       "  'name': 'Melissa Farmer',\n",
       "  'photoUrls': ['vurih.edu/sagni/gagsoc/pedguzmi/zikzigu/gozen/matuzhaz',\n",
       "   'kuhma.io/fake/volmut/huba/jakeh',\n",
       "   'nizhazpo.ru/monatjol/jasul/jimel/hasvevik/wicmifvom'],\n",
       "  'tags': [{'id': 91, 'name': 'Kristin Coleman'},\n",
       "   {'id': 86, 'name': 'Bryan Chambers'}],\n",
       "  'status': ['available']}]"
      ]
     },
     "execution_count": 389,
     "metadata": {},
     "output_type": "execute_result"
    }
   ],
   "source": [
    "object_generators = {}\n",
    "\n",
    "def get_generator_for_definition(definition_name):\n",
    "    definition = swagger['definitions'][definition_name] \n",
    "    def object_generator():\n",
    "        instance = {}       \n",
    "        # iterate through properties \n",
    "        for prop_name in definition['properties']:\n",
    "            val_gen = get_parameter_generator_from_definition_property(prop_name, definition['properties'][prop_name])\n",
    "            instance[prop_name] = val_gen() if val_gen is not None else None\n",
    "        yield instance\n",
    "    return object_generator\n",
    "    \n",
    "for definition_name in swagger[\"definitions\"]:\n",
    "    object_generators[definition_name] = get_generator_for_definition(definition_name)\n",
    "\n",
    "def generate(obj_name):\n",
    "    if obj_name not in object_generators:\n",
    "        raise Exception(\"Object \" + obj_name + \" is unknown\")\n",
    "    return object_generators[obj_name]()\n",
    "\n",
    "list(generate(\"Pet\"))"
   ]
  },
  {
   "cell_type": "code",
   "execution_count": 331,
   "metadata": {},
   "outputs": [
    {
     "name": "stdout",
     "output_type": "stream",
     "text": [
      "id\n",
      "category\n",
      "id\n",
      "name\n"
     ]
    },
    {
     "ename": "KeyError",
     "evalue": "'name'",
     "output_type": "error",
     "traceback": [
      "\u001b[0;31m---------------------------------------------------------------------------\u001b[0m",
      "\u001b[0;31mKeyError\u001b[0m                                  Traceback (most recent call last)",
      "\u001b[0;32m<ipython-input-331-eda02ba1249f>\u001b[0m in \u001b[0;36m<module>\u001b[0;34m\u001b[0m\n\u001b[0;32m----> 1\u001b[0;31m \u001b[0mlist\u001b[0m\u001b[0;34m(\u001b[0m\u001b[0mgenerate\u001b[0m\u001b[0;34m(\u001b[0m\u001b[0;34m\"Pet\"\u001b[0m\u001b[0;34m)\u001b[0m\u001b[0;34m)\u001b[0m\u001b[0;34m\u001b[0m\u001b[0m\n\u001b[0m",
      "\u001b[0;32m<ipython-input-330-76a640027ea2>\u001b[0m in \u001b[0;36mobject_generator\u001b[0;34m()\u001b[0m\n\u001b[1;32m      9\u001b[0m             \u001b[0mprint\u001b[0m\u001b[0;34m(\u001b[0m\u001b[0mprop_name\u001b[0m\u001b[0;34m)\u001b[0m\u001b[0;34m\u001b[0m\u001b[0m\n\u001b[1;32m     10\u001b[0m             \u001b[0mval_gen\u001b[0m \u001b[0;34m=\u001b[0m \u001b[0mget_command_from_param\u001b[0m\u001b[0;34m(\u001b[0m\u001b[0mdefinition\u001b[0m\u001b[0;34m[\u001b[0m\u001b[0;34m'properties'\u001b[0m\u001b[0;34m]\u001b[0m\u001b[0;34m[\u001b[0m\u001b[0mprop_name\u001b[0m\u001b[0;34m]\u001b[0m\u001b[0;34m)\u001b[0m\u001b[0;34m\u001b[0m\u001b[0m\n\u001b[0;32m---> 11\u001b[0;31m             \u001b[0minstance\u001b[0m\u001b[0;34m[\u001b[0m\u001b[0mprop_name\u001b[0m\u001b[0;34m]\u001b[0m \u001b[0;34m=\u001b[0m \u001b[0mval_gen\u001b[0m\u001b[0;34m(\u001b[0m\u001b[0;34m)\u001b[0m \u001b[0;32mif\u001b[0m \u001b[0mval_gen\u001b[0m \u001b[0;32mis\u001b[0m \u001b[0;32mnot\u001b[0m \u001b[0;32mNone\u001b[0m \u001b[0;32melse\u001b[0m \u001b[0;32mNone\u001b[0m\u001b[0;34m\u001b[0m\u001b[0m\n\u001b[0m\u001b[1;32m     12\u001b[0m         \u001b[0;32myield\u001b[0m \u001b[0minstance\u001b[0m\u001b[0;34m\u001b[0m\u001b[0m\n\u001b[1;32m     13\u001b[0m     \u001b[0;32mreturn\u001b[0m \u001b[0mobject_generator\u001b[0m\u001b[0;34m\u001b[0m\u001b[0m\n",
      "\u001b[0;32m<ipython-input-309-e43fb884fc64>\u001b[0m in \u001b[0;36m<lambda>\u001b[0;34m()\u001b[0m\n\u001b[1;32m      1\u001b[0m \u001b[0;32mdef\u001b[0m \u001b[0mgenerate_from_schema\u001b[0m\u001b[0;34m(\u001b[0m\u001b[0mschema_string\u001b[0m\u001b[0;34m)\u001b[0m\u001b[0;34m:\u001b[0m\u001b[0;34m\u001b[0m\u001b[0m\n\u001b[0;32m----> 2\u001b[0;31m     \u001b[0;32mreturn\u001b[0m \u001b[0;32mlambda\u001b[0m\u001b[0;34m:\u001b[0m \u001b[0mlist\u001b[0m\u001b[0;34m(\u001b[0m\u001b[0mgenerate\u001b[0m\u001b[0;34m(\u001b[0m\u001b[0mschema_string\u001b[0m\u001b[0;34m.\u001b[0m\u001b[0msplit\u001b[0m\u001b[0;34m(\u001b[0m\u001b[0;34m\"/\"\u001b[0m\u001b[0;34m)\u001b[0m\u001b[0;34m[\u001b[0m\u001b[0;34m-\u001b[0m\u001b[0;36m1\u001b[0m\u001b[0;34m]\u001b[0m\u001b[0;34m)\u001b[0m\u001b[0;34m)\u001b[0m\u001b[0;34m[\u001b[0m\u001b[0;36m0\u001b[0m\u001b[0;34m]\u001b[0m\u001b[0;34m\u001b[0m\u001b[0m\n\u001b[0m\u001b[1;32m      3\u001b[0m \u001b[0;34m\u001b[0m\u001b[0m\n\u001b[1;32m      4\u001b[0m \u001b[0;32mdef\u001b[0m \u001b[0mgenerate_array_from_schema\u001b[0m\u001b[0;34m(\u001b[0m\u001b[0mschema_string\u001b[0m\u001b[0;34m)\u001b[0m\u001b[0;34m:\u001b[0m\u001b[0;34m\u001b[0m\u001b[0m\n\u001b[1;32m      5\u001b[0m     \u001b[0;32mreturn\u001b[0m \u001b[0;32mlambda\u001b[0m\u001b[0;34m:\u001b[0m \u001b[0;34m[\u001b[0m\u001b[0mgenerate_from_schema\u001b[0m\u001b[0;34m(\u001b[0m\u001b[0mschema_string\u001b[0m\u001b[0;34m)\u001b[0m\u001b[0;34m(\u001b[0m\u001b[0;34m)\u001b[0m \u001b[0;32mfor\u001b[0m \u001b[0mx\u001b[0m \u001b[0;32min\u001b[0m \u001b[0mrange\u001b[0m\u001b[0;34m(\u001b[0m\u001b[0mrandom\u001b[0m\u001b[0;34m.\u001b[0m\u001b[0mrandint\u001b[0m\u001b[0;34m(\u001b[0m\u001b[0;36m0\u001b[0m\u001b[0;34m,\u001b[0m\u001b[0;36m10\u001b[0m\u001b[0;34m)\u001b[0m\u001b[0;34m)\u001b[0m\u001b[0;34m]\u001b[0m\u001b[0;34m\u001b[0m\u001b[0m\n",
      "\u001b[0;32m<ipython-input-330-76a640027ea2>\u001b[0m in \u001b[0;36mobject_generator\u001b[0;34m()\u001b[0m\n\u001b[1;32m      8\u001b[0m         \u001b[0;32mfor\u001b[0m \u001b[0mprop_name\u001b[0m \u001b[0;32min\u001b[0m \u001b[0mdefinition\u001b[0m\u001b[0;34m[\u001b[0m\u001b[0;34m'properties'\u001b[0m\u001b[0;34m]\u001b[0m\u001b[0;34m:\u001b[0m\u001b[0;34m\u001b[0m\u001b[0m\n\u001b[1;32m      9\u001b[0m             \u001b[0mprint\u001b[0m\u001b[0;34m(\u001b[0m\u001b[0mprop_name\u001b[0m\u001b[0;34m)\u001b[0m\u001b[0;34m\u001b[0m\u001b[0m\n\u001b[0;32m---> 10\u001b[0;31m             \u001b[0mval_gen\u001b[0m \u001b[0;34m=\u001b[0m \u001b[0mget_command_from_param\u001b[0m\u001b[0;34m(\u001b[0m\u001b[0mdefinition\u001b[0m\u001b[0;34m[\u001b[0m\u001b[0;34m'properties'\u001b[0m\u001b[0;34m]\u001b[0m\u001b[0;34m[\u001b[0m\u001b[0mprop_name\u001b[0m\u001b[0;34m]\u001b[0m\u001b[0;34m)\u001b[0m\u001b[0;34m\u001b[0m\u001b[0m\n\u001b[0m\u001b[1;32m     11\u001b[0m             \u001b[0minstance\u001b[0m\u001b[0;34m[\u001b[0m\u001b[0mprop_name\u001b[0m\u001b[0;34m]\u001b[0m \u001b[0;34m=\u001b[0m \u001b[0mval_gen\u001b[0m\u001b[0;34m(\u001b[0m\u001b[0;34m)\u001b[0m \u001b[0;32mif\u001b[0m \u001b[0mval_gen\u001b[0m \u001b[0;32mis\u001b[0m \u001b[0;32mnot\u001b[0m \u001b[0;32mNone\u001b[0m \u001b[0;32melse\u001b[0m \u001b[0;32mNone\u001b[0m\u001b[0;34m\u001b[0m\u001b[0m\n\u001b[1;32m     12\u001b[0m         \u001b[0;32myield\u001b[0m \u001b[0minstance\u001b[0m\u001b[0;34m\u001b[0m\u001b[0m\n",
      "\u001b[0;32m<ipython-input-329-46da50930256>\u001b[0m in \u001b[0;36mget_command_from_param\u001b[0;34m(param)\u001b[0m\n\u001b[1;32m     16\u001b[0m         \u001b[0;32mreturn\u001b[0m \u001b[0mgenerate_from_enum\u001b[0m\u001b[0;34m(\u001b[0m\u001b[0mparam\u001b[0m\u001b[0;34m[\u001b[0m\u001b[0;34m\"enum\"\u001b[0m\u001b[0;34m]\u001b[0m\u001b[0;34m)\u001b[0m\u001b[0;34m\u001b[0m\u001b[0m\n\u001b[1;32m     17\u001b[0m     \u001b[0;32melif\u001b[0m \u001b[0mparam\u001b[0m\u001b[0;34m[\u001b[0m\u001b[0;34m\"type\"\u001b[0m\u001b[0;34m]\u001b[0m \u001b[0;34m==\u001b[0m \u001b[0;34m\"string\"\u001b[0m\u001b[0;34m:\u001b[0m\u001b[0;34m\u001b[0m\u001b[0m\n\u001b[0;32m---> 18\u001b[0;31m         \u001b[0;32mreturn\u001b[0m \u001b[0mgenerate_prop_from_name\u001b[0m\u001b[0;34m(\u001b[0m\u001b[0mparam\u001b[0m\u001b[0;34m[\u001b[0m\u001b[0;34m\"name\"\u001b[0m\u001b[0;34m]\u001b[0m\u001b[0;34m)\u001b[0m\u001b[0;34m\u001b[0m\u001b[0m\n\u001b[0m\u001b[1;32m     19\u001b[0m     \u001b[0;32melif\u001b[0m \u001b[0mparam\u001b[0m\u001b[0;34m[\u001b[0m\u001b[0;34m\"type\"\u001b[0m\u001b[0;34m]\u001b[0m \u001b[0;34m==\u001b[0m \u001b[0;34m\"int\"\u001b[0m\u001b[0;34m:\u001b[0m\u001b[0;34m\u001b[0m\u001b[0m\n\u001b[1;32m     20\u001b[0m         \u001b[0;32mreturn\u001b[0m \u001b[0mgenerate_prop_from_type\u001b[0m\u001b[0;34m(\u001b[0m\u001b[0mparam\u001b[0m\u001b[0;34m[\u001b[0m\u001b[0;34m\"type\"\u001b[0m\u001b[0;34m]\u001b[0m\u001b[0;34m)\u001b[0m\u001b[0;34m\u001b[0m\u001b[0m\n",
      "\u001b[0;31mKeyError\u001b[0m: 'name'"
     ]
    }
   ],
   "source": []
  },
  {
   "cell_type": "code",
   "execution_count": 310,
   "metadata": {
    "scrolled": true
   },
   "outputs": [
    {
     "data": {
      "text/plain": [
       "{'Add a new pet to the store': <function __main__.generate_from_schema.<locals>.<lambda>()>,\n",
       " 'Update an existing pet': <function __main__.generate_from_schema.<locals>.<lambda>()>,\n",
       " 'Finds Pets by status': <function __main__.generate_array_from_enum.<locals>.<lambda>()>,\n",
       " 'Finds Pets by tags': <function __main__.generate_array_from_name.<locals>.<lambda>()>,\n",
       " 'Updates a pet in the store with form data': <function __main__.generate_prop_from_name.<locals>.<lambda>()>,\n",
       " 'uploads an image': <function __main__.generate_prop_from_name.<locals>.<lambda>()>,\n",
       " 'Place an order for a pet': <function __main__.generate_from_schema.<locals>.<lambda>()>,\n",
       " 'Create user': <function __main__.generate_from_schema.<locals>.<lambda>()>,\n",
       " 'Creates list of users with given input array': <function __main__.generate_array_from_schema.<locals>.<lambda>()>,\n",
       " 'Logs user into the system': <function __main__.generate_prop_from_name.<locals>.<lambda>()>,\n",
       " 'Get user by user name': <function __main__.generate_prop_from_name.<locals>.<lambda>()>,\n",
       " 'Updated user': <function __main__.generate_from_schema.<locals>.<lambda>()>,\n",
       " 'Delete user': <function __main__.generate_prop_from_name.<locals>.<lambda>()>}"
      ]
     },
     "execution_count": 310,
     "metadata": {},
     "output_type": "execute_result"
    }
   ],
   "source": [
    "\n",
    "\n",
    "commands = {}\n",
    "for path_name in swagger[\"paths\"]:\n",
    "    path = swagger[\"paths\"][path_name]\n",
    "    for method in path:\n",
    "        command = path[method][\"summary\"] if len(path[method][\"summary\"]) > 0 else path[method][\"description\"]\n",
    "        for param in path[method][\"parameters\"]:\n",
    "            if param[\"in\"] == \"header\":\n",
    "                continue\n",
    "                \n",
    "            commands[command] = get_command_parameter_generator_from_method_param(param)\n",
    "\n",
    "commands"
   ]
  },
  {
   "cell_type": "code",
   "execution_count": 311,
   "metadata": {},
   "outputs": [
    {
     "name": "stdout",
     "output_type": "stream",
     "text": [
      "Add a new pet to the store\n",
      "id\n"
     ]
    },
    {
     "ename": "TypeError",
     "evalue": "<lambda>() takes 0 positional arguments but 1 was given",
     "output_type": "error",
     "traceback": [
      "\u001b[0;31m---------------------------------------------------------------------------\u001b[0m",
      "\u001b[0;31mTypeError\u001b[0m                                 Traceback (most recent call last)",
      "\u001b[0;32m<ipython-input-311-5c40530c1a5b>\u001b[0m in \u001b[0;36m<module>\u001b[0;34m\u001b[0m\n\u001b[1;32m      1\u001b[0m \u001b[0;32mfor\u001b[0m \u001b[0mcommand\u001b[0m \u001b[0;32min\u001b[0m \u001b[0mcommands\u001b[0m\u001b[0;34m:\u001b[0m\u001b[0;34m\u001b[0m\u001b[0m\n\u001b[1;32m      2\u001b[0m     \u001b[0mprint\u001b[0m\u001b[0;34m(\u001b[0m\u001b[0mcommand\u001b[0m\u001b[0;34m)\u001b[0m\u001b[0;34m\u001b[0m\u001b[0m\n\u001b[0;32m----> 3\u001b[0;31m     \u001b[0mprint\u001b[0m\u001b[0;34m(\u001b[0m\u001b[0mcommands\u001b[0m\u001b[0;34m[\u001b[0m\u001b[0mcommand\u001b[0m\u001b[0;34m]\u001b[0m\u001b[0;34m(\u001b[0m\u001b[0;34m)\u001b[0m \u001b[0;32mif\u001b[0m \u001b[0mcommands\u001b[0m\u001b[0;34m[\u001b[0m\u001b[0mcommand\u001b[0m\u001b[0;34m]\u001b[0m \u001b[0;32mis\u001b[0m \u001b[0;32mnot\u001b[0m \u001b[0;32mNone\u001b[0m \u001b[0;32melse\u001b[0m \u001b[0;34m\"NONE\"\u001b[0m\u001b[0;34m)\u001b[0m\u001b[0;34m\u001b[0m\u001b[0m\n\u001b[0m",
      "\u001b[0;32m<ipython-input-309-e43fb884fc64>\u001b[0m in \u001b[0;36m<lambda>\u001b[0;34m()\u001b[0m\n\u001b[1;32m      1\u001b[0m \u001b[0;32mdef\u001b[0m \u001b[0mgenerate_from_schema\u001b[0m\u001b[0;34m(\u001b[0m\u001b[0mschema_string\u001b[0m\u001b[0;34m)\u001b[0m\u001b[0;34m:\u001b[0m\u001b[0;34m\u001b[0m\u001b[0m\n\u001b[0;32m----> 2\u001b[0;31m     \u001b[0;32mreturn\u001b[0m \u001b[0;32mlambda\u001b[0m\u001b[0;34m:\u001b[0m \u001b[0mlist\u001b[0m\u001b[0;34m(\u001b[0m\u001b[0mgenerate\u001b[0m\u001b[0;34m(\u001b[0m\u001b[0mschema_string\u001b[0m\u001b[0;34m.\u001b[0m\u001b[0msplit\u001b[0m\u001b[0;34m(\u001b[0m\u001b[0;34m\"/\"\u001b[0m\u001b[0;34m)\u001b[0m\u001b[0;34m[\u001b[0m\u001b[0;34m-\u001b[0m\u001b[0;36m1\u001b[0m\u001b[0;34m]\u001b[0m\u001b[0;34m)\u001b[0m\u001b[0;34m)\u001b[0m\u001b[0;34m[\u001b[0m\u001b[0;36m0\u001b[0m\u001b[0;34m]\u001b[0m\u001b[0;34m\u001b[0m\u001b[0m\n\u001b[0m\u001b[1;32m      3\u001b[0m \u001b[0;34m\u001b[0m\u001b[0m\n\u001b[1;32m      4\u001b[0m \u001b[0;32mdef\u001b[0m \u001b[0mgenerate_array_from_schema\u001b[0m\u001b[0;34m(\u001b[0m\u001b[0mschema_string\u001b[0m\u001b[0;34m)\u001b[0m\u001b[0;34m:\u001b[0m\u001b[0;34m\u001b[0m\u001b[0m\n\u001b[1;32m      5\u001b[0m     \u001b[0;32mreturn\u001b[0m \u001b[0;32mlambda\u001b[0m\u001b[0;34m:\u001b[0m \u001b[0;34m[\u001b[0m\u001b[0mgenerate_from_schema\u001b[0m\u001b[0;34m(\u001b[0m\u001b[0mschema_string\u001b[0m\u001b[0;34m)\u001b[0m\u001b[0;34m(\u001b[0m\u001b[0;34m)\u001b[0m \u001b[0;32mfor\u001b[0m \u001b[0mx\u001b[0m \u001b[0;32min\u001b[0m \u001b[0mrange\u001b[0m\u001b[0;34m(\u001b[0m\u001b[0mrandom\u001b[0m\u001b[0;34m.\u001b[0m\u001b[0mrandint\u001b[0m\u001b[0;34m(\u001b[0m\u001b[0;36m0\u001b[0m\u001b[0;34m,\u001b[0m\u001b[0;36m10\u001b[0m\u001b[0;34m)\u001b[0m\u001b[0;34m)\u001b[0m\u001b[0;34m]\u001b[0m\u001b[0;34m\u001b[0m\u001b[0m\n",
      "\u001b[0;32m<ipython-input-272-aabe3c837637>\u001b[0m in \u001b[0;36mobject_generator\u001b[0;34m()\u001b[0m\n\u001b[1;32m     64\u001b[0m             \u001b[0;32mexcept\u001b[0m \u001b[0mException\u001b[0m \u001b[0;32mas\u001b[0m \u001b[0me\u001b[0m\u001b[0;34m:\u001b[0m\u001b[0;34m\u001b[0m\u001b[0m\n\u001b[1;32m     65\u001b[0m                 \u001b[0mprint\u001b[0m\u001b[0;34m(\u001b[0m\u001b[0mprop_name\u001b[0m\u001b[0;34m)\u001b[0m\u001b[0;34m\u001b[0m\u001b[0m\n\u001b[0;32m---> 66\u001b[0;31m                 \u001b[0;32mraise\u001b[0m \u001b[0me\u001b[0m\u001b[0;34m\u001b[0m\u001b[0m\n\u001b[0m\u001b[1;32m     67\u001b[0m             \u001b[0minstance\u001b[0m\u001b[0;34m[\u001b[0m\u001b[0mprop_name\u001b[0m\u001b[0;34m]\u001b[0m \u001b[0;34m=\u001b[0m \u001b[0mgenerated_prop\u001b[0m\u001b[0;34m\u001b[0m\u001b[0m\n\u001b[1;32m     68\u001b[0m         \u001b[0;32myield\u001b[0m \u001b[0minstance\u001b[0m\u001b[0;34m\u001b[0m\u001b[0m\n",
      "\u001b[0;32m<ipython-input-272-aabe3c837637>\u001b[0m in \u001b[0;36mobject_generator\u001b[0;34m()\u001b[0m\n\u001b[1;32m     61\u001b[0m             \u001b[0mprop\u001b[0m \u001b[0;34m=\u001b[0m \u001b[0mdefinition\u001b[0m\u001b[0;34m[\u001b[0m\u001b[0;34m'properties'\u001b[0m\u001b[0;34m]\u001b[0m\u001b[0;34m[\u001b[0m\u001b[0mprop_name\u001b[0m\u001b[0;34m]\u001b[0m\u001b[0;34m\u001b[0m\u001b[0m\n\u001b[1;32m     62\u001b[0m             \u001b[0;32mtry\u001b[0m\u001b[0;34m:\u001b[0m\u001b[0;34m\u001b[0m\u001b[0m\n\u001b[0;32m---> 63\u001b[0;31m                 \u001b[0mgenerated_prop\u001b[0m \u001b[0;34m=\u001b[0m \u001b[0mgenerate_property_value\u001b[0m\u001b[0;34m(\u001b[0m\u001b[0mprop\u001b[0m\u001b[0;34m,\u001b[0m \u001b[0mprop_name\u001b[0m\u001b[0;34m)\u001b[0m\u001b[0;34m\u001b[0m\u001b[0m\n\u001b[0m\u001b[1;32m     64\u001b[0m             \u001b[0;32mexcept\u001b[0m \u001b[0mException\u001b[0m \u001b[0;32mas\u001b[0m \u001b[0me\u001b[0m\u001b[0;34m:\u001b[0m\u001b[0;34m\u001b[0m\u001b[0m\n\u001b[1;32m     65\u001b[0m                 \u001b[0mprint\u001b[0m\u001b[0;34m(\u001b[0m\u001b[0mprop_name\u001b[0m\u001b[0;34m)\u001b[0m\u001b[0;34m\u001b[0m\u001b[0m\n",
      "\u001b[0;32m<ipython-input-272-aabe3c837637>\u001b[0m in \u001b[0;36mgenerate_property_value\u001b[0;34m(prop, prop_name)\u001b[0m\n\u001b[1;32m     36\u001b[0m \u001b[0;32mdef\u001b[0m \u001b[0mgenerate_property_value\u001b[0m\u001b[0;34m(\u001b[0m\u001b[0mprop\u001b[0m\u001b[0;34m,\u001b[0m \u001b[0mprop_name\u001b[0m\u001b[0;34m)\u001b[0m\u001b[0;34m:\u001b[0m\u001b[0;34m\u001b[0m\u001b[0m\n\u001b[1;32m     37\u001b[0m     \u001b[0;32mif\u001b[0m \u001b[0mprop_name\u001b[0m \u001b[0;32min\u001b[0m \u001b[0mproperty_generators\u001b[0m\u001b[0;34m:\u001b[0m\u001b[0;34m\u001b[0m\u001b[0m\n\u001b[0;32m---> 38\u001b[0;31m         \u001b[0mval\u001b[0m \u001b[0;34m=\u001b[0m \u001b[0mproperty_generators\u001b[0m\u001b[0;34m[\u001b[0m\u001b[0mprop_name\u001b[0m\u001b[0;34m]\u001b[0m\u001b[0;34m(\u001b[0m\u001b[0;34m(\u001b[0m\u001b[0mprop\u001b[0m\u001b[0;34m,\u001b[0m\u001b[0mprop_name\u001b[0m\u001b[0;34m)\u001b[0m\u001b[0;34m)\u001b[0m\u001b[0;34m\u001b[0m\u001b[0m\n\u001b[0m\u001b[1;32m     39\u001b[0m         \u001b[0;32mif\u001b[0m \u001b[0mval\u001b[0m \u001b[0;32mis\u001b[0m \u001b[0;32mnot\u001b[0m \u001b[0;32mNone\u001b[0m\u001b[0;34m:\u001b[0m\u001b[0;34m\u001b[0m\u001b[0m\n\u001b[1;32m     40\u001b[0m             \u001b[0;31m#print(\"---\" + str(val))\u001b[0m\u001b[0;34m\u001b[0m\u001b[0;34m\u001b[0m\u001b[0m\n",
      "\u001b[0;31mTypeError\u001b[0m: <lambda>() takes 0 positional arguments but 1 was given"
     ]
    }
   ],
   "source": [
    "for command in commands:\n",
    "    print(command)\n",
    "    print(commands[command]() if commands[command] is not None else \"NONE\")"
   ]
  },
  {
   "cell_type": "code",
   "execution_count": 239,
   "metadata": {
    "scrolled": true
   },
   "outputs": [
    {
     "name": "stdout",
     "output_type": "stream",
     "text": [
      "with id d69e80d2-69d8-4dd1-affd-9896ac062570,with id d69e80d2-69d8-4dd1-affd-9896ac062570,with id d69e80d2-69d8-4dd1-affd-9896ac062570,with id d69e80d2-69d8-4dd1-affd-9896ac062570, id b2672a27-51ca-46e7-b663-38403037c8c8, name Yvonne Hamilton,, name Nathan Cole,with id d69e80d2-69d8-4dd1-affd-9896ac062570,with id d69e80d2-69d8-4dd1-affd-9896ac062570,with id d69e80d2-69d8-4dd1-affd-9896ac062570,with id d69e80d2-69d8-4dd1-affd-9896ac062570, id b2672a27-51ca-46e7-b663-38403037c8c8, name Yvonne Hamilton,, name Nathan Cole,with id d69e80d2-69d8-4dd1-affd-9896ac062570,with id d69e80d2-69d8-4dd1-affd-9896ac062570,with id d69e80d2-69d8-4dd1-affd-9896ac062570,with id d69e80d2-69d8-4dd1-affd-9896ac062570, id b2672a27-51ca-46e7-b663-38403037c8c8, name Yvonne Hamilton,, name Nathan Cole, photo_urls0 photoUrls0, photo_urls1 photoUrls1, photo_urls2 photoUrls2, photo_urls3 photoUrls3, photo_urls4 photoUrls4, photo_urls5 photoUrls5,with id d69e80d2-69d8-4dd1-affd-9896ac062570,with id d69e80d2-69d8-4dd1-affd-9896ac062570,with id d69e80d2-69d8-4dd1-affd-9896ac062570,with id d69e80d2-69d8-4dd1-affd-9896ac062570, id b2672a27-51ca-46e7-b663-38403037c8c8, name Yvonne Hamilton,, name Nathan Cole,with id d69e80d2-69d8-4dd1-affd-9896ac062570,with id d69e80d2-69d8-4dd1-affd-9896ac062570,with id d69e80d2-69d8-4dd1-affd-9896ac062570,with id d69e80d2-69d8-4dd1-affd-9896ac062570, id b2672a27-51ca-46e7-b663-38403037c8c8, name Yvonne Hamilton,, name Nathan Cole,with id d69e80d2-69d8-4dd1-affd-9896ac062570,with id d69e80d2-69d8-4dd1-affd-9896ac062570,with id d69e80d2-69d8-4dd1-affd-9896ac062570,with id d69e80d2-69d8-4dd1-affd-9896ac062570, id b2672a27-51ca-46e7-b663-38403037c8c8, name Yvonne Hamilton,, name Nathan Cole, photo_urls0 photoUrls0, photo_urls1 photoUrls1, photo_urls2 photoUrls2, photo_urls3 photoUrls3, photo_urls4 photoUrls4, photo_urls5 photoUrls5,with id d69e80d2-69d8-4dd1-affd-9896ac062570,with id d69e80d2-69d8-4dd1-affd-9896ac062570,with id d69e80d2-69d8-4dd1-affd-9896ac062570,with id d69e80d2-69d8-4dd1-affd-9896ac062570, id b2672a27-51ca-46e7-b663-38403037c8c8, name Yvonne Hamilton,, name Nathan Cole,with id d69e80d2-69d8-4dd1-affd-9896ac062570,with id d69e80d2-69d8-4dd1-affd-9896ac062570,with id d69e80d2-69d8-4dd1-affd-9896ac062570,with id d69e80d2-69d8-4dd1-affd-9896ac062570, id b2672a27-51ca-46e7-b663-38403037c8c8, name Yvonne Hamilton,, name Nathan Cole,with id d69e80d2-69d8-4dd1-affd-9896ac062570,with id d69e80d2-69d8-4dd1-affd-9896ac062570,with id d69e80d2-69d8-4dd1-affd-9896ac062570,with id d69e80d2-69d8-4dd1-affd-9896ac062570, id b2672a27-51ca-46e7-b663-38403037c8c8, name Yvonne Hamilton,, name Nathan Cole, photo_urls0 photoUrls0, photo_urls1 photoUrls1, photo_urls2 photoUrls2, photo_urls3 photoUrls3, photo_urls4 photoUrls4, photo_urls5 photoUrls5, tags0 tags0, tags1 tags1, tags2 tags2, tags3 tags3, tags4 tags4, tags5 tags5, tags6 tags6,with id d69e80d2-69d8-4dd1-affd-9896ac062570,with id d69e80d2-69d8-4dd1-affd-9896ac062570,with id d69e80d2-69d8-4dd1-affd-9896ac062570,with id d69e80d2-69d8-4dd1-affd-9896ac062570, id b2672a27-51ca-46e7-b663-38403037c8c8, name Yvonne Hamilton,, name Nathan Cole,with id d69e80d2-69d8-4dd1-affd-9896ac062570,with id d69e80d2-69d8-4dd1-affd-9896ac062570,with id d69e80d2-69d8-4dd1-affd-9896ac062570,with id d69e80d2-69d8-4dd1-affd-9896ac062570, id b2672a27-51ca-46e7-b663-38403037c8c8, name Yvonne Hamilton,, name Nathan Cole,with id d69e80d2-69d8-4dd1-affd-9896ac062570,with id d69e80d2-69d8-4dd1-affd-9896ac062570,with id d69e80d2-69d8-4dd1-affd-9896ac062570,with id d69e80d2-69d8-4dd1-affd-9896ac062570, id b2672a27-51ca-46e7-b663-38403037c8c8, name Yvonne Hamilton,, name Nathan Cole, photo_urls0 photoUrls0, photo_urls1 photoUrls1, photo_urls2 photoUrls2, photo_urls3 photoUrls3, photo_urls4 photoUrls4, photo_urls5 photoUrls5,with id d69e80d2-69d8-4dd1-affd-9896ac062570,with id d69e80d2-69d8-4dd1-affd-9896ac062570,with id d69e80d2-69d8-4dd1-affd-9896ac062570,with id d69e80d2-69d8-4dd1-affd-9896ac062570, id b2672a27-51ca-46e7-b663-38403037c8c8, name Yvonne Hamilton,, name Nathan Cole,with id d69e80d2-69d8-4dd1-affd-9896ac062570,with id d69e80d2-69d8-4dd1-affd-9896ac062570,with id d69e80d2-69d8-4dd1-affd-9896ac062570,with id d69e80d2-69d8-4dd1-affd-9896ac062570, id b2672a27-51ca-46e7-b663-38403037c8c8, name Yvonne Hamilton,, name Nathan Cole,with id d69e80d2-69d8-4dd1-affd-9896ac062570,with id d69e80d2-69d8-4dd1-affd-9896ac062570,with id d69e80d2-69d8-4dd1-affd-9896ac062570,with id d69e80d2-69d8-4dd1-affd-9896ac062570, id b2672a27-51ca-46e7-b663-38403037c8c8, name Yvonne Hamilton,, name Nathan Cole, photo_urls0 photoUrls0, photo_urls1 photoUrls1, photo_urls2 photoUrls2, photo_urls3 photoUrls3, photo_urls4 photoUrls4, photo_urls5 photoUrls5,with id d69e80d2-69d8-4dd1-affd-9896ac062570,with id d69e80d2-69d8-4dd1-affd-9896ac062570,with id d69e80d2-69d8-4dd1-affd-9896ac062570,with id d69e80d2-69d8-4dd1-affd-9896ac062570, id b2672a27-51ca-46e7-b663-38403037c8c8, name Yvonne Hamilton,, name Nathan Cole,with id d69e80d2-69d8-4dd1-affd-9896ac062570,with id d69e80d2-69d8-4dd1-affd-9896ac062570,with id d69e80d2-69d8-4dd1-affd-9896ac062570,with id d69e80d2-69d8-4dd1-affd-9896ac062570, id b2672a27-51ca-46e7-b663-38403037c8c8, name Yvonne Hamilton,, name Nathan Cole,with id d69e80d2-69d8-4dd1-affd-9896ac062570,with id d69e80d2-69d8-4dd1-affd-9896ac062570,with id d69e80d2-69d8-4dd1-affd-9896ac062570,with id d69e80d2-69d8-4dd1-affd-9896ac062570, id b2672a27-51ca-46e7-b663-38403037c8c8, name Yvonne Hamilton,, name Nathan Cole, photo_urls0 photoUrls0, photo_urls1 photoUrls1, photo_urls2 photoUrls2, photo_urls3 photoUrls3, photo_urls4 photoUrls4, photo_urls5 photoUrls5, tags0 tags0, tags1 tags1, tags2 tags2, tags3 tags3, tags4 tags4, tags5 tags5, tags6 tags6, enum available,\n",
      "with id d5edde14-c484-4a9f-9188-ed2de168c515,with id d5edde14-c484-4a9f-9188-ed2de168c515,with id d5edde14-c484-4a9f-9188-ed2de168c515,with id d5edde14-c484-4a9f-9188-ed2de168c515, id bf9f217d-7bb7-4a88-92ad-9d739a749710, name Zachary Randolph,, name Margaret Rogers,with id d5edde14-c484-4a9f-9188-ed2de168c515,with id d5edde14-c484-4a9f-9188-ed2de168c515,with id d5edde14-c484-4a9f-9188-ed2de168c515,with id d5edde14-c484-4a9f-9188-ed2de168c515, id bf9f217d-7bb7-4a88-92ad-9d739a749710, name Zachary Randolph,, name Margaret Rogers,with id d5edde14-c484-4a9f-9188-ed2de168c515,with id d5edde14-c484-4a9f-9188-ed2de168c515,with id d5edde14-c484-4a9f-9188-ed2de168c515,with id d5edde14-c484-4a9f-9188-ed2de168c515, id bf9f217d-7bb7-4a88-92ad-9d739a749710, name Zachary Randolph,, name Margaret Rogers, photo_urls0 photoUrls0, photo_urls1 photoUrls1,with id d5edde14-c484-4a9f-9188-ed2de168c515,with id d5edde14-c484-4a9f-9188-ed2de168c515,with id d5edde14-c484-4a9f-9188-ed2de168c515,with id d5edde14-c484-4a9f-9188-ed2de168c515, id bf9f217d-7bb7-4a88-92ad-9d739a749710, name Zachary Randolph,, name Margaret Rogers,with id d5edde14-c484-4a9f-9188-ed2de168c515,with id d5edde14-c484-4a9f-9188-ed2de168c515,with id d5edde14-c484-4a9f-9188-ed2de168c515,with id d5edde14-c484-4a9f-9188-ed2de168c515, id bf9f217d-7bb7-4a88-92ad-9d739a749710, name Zachary Randolph,, name Margaret Rogers,with id d5edde14-c484-4a9f-9188-ed2de168c515,with id d5edde14-c484-4a9f-9188-ed2de168c515,with id d5edde14-c484-4a9f-9188-ed2de168c515,with id d5edde14-c484-4a9f-9188-ed2de168c515, id bf9f217d-7bb7-4a88-92ad-9d739a749710, name Zachary Randolph,, name Margaret Rogers, photo_urls0 photoUrls0, photo_urls1 photoUrls1,with id d5edde14-c484-4a9f-9188-ed2de168c515,with id d5edde14-c484-4a9f-9188-ed2de168c515,with id d5edde14-c484-4a9f-9188-ed2de168c515,with id d5edde14-c484-4a9f-9188-ed2de168c515, id bf9f217d-7bb7-4a88-92ad-9d739a749710, name Zachary Randolph,, name Margaret Rogers,with id d5edde14-c484-4a9f-9188-ed2de168c515,with id d5edde14-c484-4a9f-9188-ed2de168c515,with id d5edde14-c484-4a9f-9188-ed2de168c515,with id d5edde14-c484-4a9f-9188-ed2de168c515, id bf9f217d-7bb7-4a88-92ad-9d739a749710, name Zachary Randolph,, name Margaret Rogers,with id d5edde14-c484-4a9f-9188-ed2de168c515,with id d5edde14-c484-4a9f-9188-ed2de168c515,with id d5edde14-c484-4a9f-9188-ed2de168c515,with id d5edde14-c484-4a9f-9188-ed2de168c515, id bf9f217d-7bb7-4a88-92ad-9d739a749710, name Zachary Randolph,, name Margaret Rogers, photo_urls0 photoUrls0, photo_urls1 photoUrls1, tags0 tags0, tags1 tags1,with id d5edde14-c484-4a9f-9188-ed2de168c515,with id d5edde14-c484-4a9f-9188-ed2de168c515,with id d5edde14-c484-4a9f-9188-ed2de168c515,with id d5edde14-c484-4a9f-9188-ed2de168c515, id bf9f217d-7bb7-4a88-92ad-9d739a749710, name Zachary Randolph,, name Margaret Rogers,with id d5edde14-c484-4a9f-9188-ed2de168c515,with id d5edde14-c484-4a9f-9188-ed2de168c515,with id d5edde14-c484-4a9f-9188-ed2de168c515,with id d5edde14-c484-4a9f-9188-ed2de168c515, id bf9f217d-7bb7-4a88-92ad-9d739a749710, name Zachary Randolph,, name Margaret Rogers,with id d5edde14-c484-4a9f-9188-ed2de168c515,with id d5edde14-c484-4a9f-9188-ed2de168c515,with id d5edde14-c484-4a9f-9188-ed2de168c515,with id d5edde14-c484-4a9f-9188-ed2de168c515, id bf9f217d-7bb7-4a88-92ad-9d739a749710, name Zachary Randolph,, name Margaret Rogers, photo_urls0 photoUrls0, photo_urls1 photoUrls1,with id d5edde14-c484-4a9f-9188-ed2de168c515,with id d5edde14-c484-4a9f-9188-ed2de168c515,with id d5edde14-c484-4a9f-9188-ed2de168c515,with id d5edde14-c484-4a9f-9188-ed2de168c515, id bf9f217d-7bb7-4a88-92ad-9d739a749710, name Zachary Randolph,, name Margaret Rogers,with id d5edde14-c484-4a9f-9188-ed2de168c515,with id d5edde14-c484-4a9f-9188-ed2de168c515,with id d5edde14-c484-4a9f-9188-ed2de168c515,with id d5edde14-c484-4a9f-9188-ed2de168c515, id bf9f217d-7bb7-4a88-92ad-9d739a749710, name Zachary Randolph,, name Margaret Rogers,with id d5edde14-c484-4a9f-9188-ed2de168c515,with id d5edde14-c484-4a9f-9188-ed2de168c515,with id d5edde14-c484-4a9f-9188-ed2de168c515,with id d5edde14-c484-4a9f-9188-ed2de168c515, id bf9f217d-7bb7-4a88-92ad-9d739a749710, name Zachary Randolph,, name Margaret Rogers, photo_urls0 photoUrls0, photo_urls1 photoUrls1,with id d5edde14-c484-4a9f-9188-ed2de168c515,with id d5edde14-c484-4a9f-9188-ed2de168c515,with id d5edde14-c484-4a9f-9188-ed2de168c515,with id d5edde14-c484-4a9f-9188-ed2de168c515, id bf9f217d-7bb7-4a88-92ad-9d739a749710, name Zachary Randolph,, name Margaret Rogers,with id d5edde14-c484-4a9f-9188-ed2de168c515,with id d5edde14-c484-4a9f-9188-ed2de168c515,with id d5edde14-c484-4a9f-9188-ed2de168c515,with id d5edde14-c484-4a9f-9188-ed2de168c515, id bf9f217d-7bb7-4a88-92ad-9d739a749710, name Zachary Randolph,, name Margaret Rogers,with id d5edde14-c484-4a9f-9188-ed2de168c515,with id d5edde14-c484-4a9f-9188-ed2de168c515,with id d5edde14-c484-4a9f-9188-ed2de168c515,with id d5edde14-c484-4a9f-9188-ed2de168c515, id bf9f217d-7bb7-4a88-92ad-9d739a749710, name Zachary Randolph,, name Margaret Rogers, photo_urls0 photoUrls0, photo_urls1 photoUrls1, tags0 tags0, tags1 tags1, enum available,\n",
      "withwith status0 status0, status1 status1, status2 status2, status3 status3, status4 status4, status5 status5, status6 status6, status7 status7, status8 status8,\n",
      "withwith tags0 tags0, tags1 tags1, tags2 tags2, tags3 tags3, tags4 tags4, tags5 tags5, tags6 tags6,\n",
      "with name Kayla Schmidt,\n",
      "with name Cole Gross,\n",
      "with name Aaron Abbott,\n",
      "with name Erik Hill,\n"
     ]
    },
    {
     "ename": "TypeError",
     "evalue": "'int' object is not iterable",
     "output_type": "error",
     "traceback": [
      "\u001b[0;31m---------------------------------------------------------------------------\u001b[0m",
      "\u001b[0;31mTypeError\u001b[0m                                 Traceback (most recent call last)",
      "\u001b[0;32m<ipython-input-239-30592ea8d93e>\u001b[0m in \u001b[0;36m<module>\u001b[0;34m\u001b[0m\n\u001b[1;32m     23\u001b[0m     \u001b[0;31m# generate an utterance that contains all of the command and all of the parameters\u001b[0m\u001b[0;34m\u001b[0m\u001b[0;34m\u001b[0m\u001b[0m\n\u001b[1;32m     24\u001b[0m     \u001b[0mparameters\u001b[0m \u001b[0;34m=\u001b[0m \u001b[0mcommands\u001b[0m\u001b[0;34m[\u001b[0m\u001b[0mcommand\u001b[0m\u001b[0;34m]\u001b[0m\u001b[0;34m(\u001b[0m\u001b[0;34m)\u001b[0m\u001b[0;34m\u001b[0m\u001b[0m\n\u001b[0;32m---> 25\u001b[0;31m     \u001b[0msentence\u001b[0m \u001b[0;34m=\u001b[0m \u001b[0mconstruct_sentence_from_parameters\u001b[0m\u001b[0;34m(\u001b[0m\u001b[0mparameters\u001b[0m\u001b[0;34m,\u001b[0m \u001b[0;34m\"with\"\u001b[0m\u001b[0;34m)\u001b[0m\u001b[0;34m\u001b[0m\u001b[0m\n\u001b[0m\u001b[1;32m     26\u001b[0m     \u001b[0mprint\u001b[0m\u001b[0;34m(\u001b[0m\u001b[0msentence\u001b[0m\u001b[0;34m)\u001b[0m\u001b[0;34m\u001b[0m\u001b[0m\n\u001b[1;32m     27\u001b[0m \u001b[0;34m\u001b[0m\u001b[0m\n",
      "\u001b[0;32m<ipython-input-239-30592ea8d93e>\u001b[0m in \u001b[0;36mconstruct_sentence_from_parameters\u001b[0;34m(parameters, sentence)\u001b[0m\n\u001b[1;32m     17\u001b[0m                 \u001b[0msentence\u001b[0m \u001b[0;34m+=\u001b[0m \u001b[0;34m\" \"\u001b[0m \u001b[0;34m+\u001b[0m \u001b[0mparameter_name\u001b[0m \u001b[0;34m+\u001b[0m \u001b[0;34m\" \"\u001b[0m \u001b[0;34m+\u001b[0m \u001b[0mparameters\u001b[0m\u001b[0;34m[\u001b[0m\u001b[0mparameter\u001b[0m\u001b[0;34m]\u001b[0m \u001b[0;34m+\u001b[0m \u001b[0;34m\",\"\u001b[0m\u001b[0;34m\u001b[0m\u001b[0m\n\u001b[1;32m     18\u001b[0m             \u001b[0;32melse\u001b[0m\u001b[0;34m:\u001b[0m\u001b[0;34m\u001b[0m\u001b[0m\n\u001b[0;32m---> 19\u001b[0;31m                 \u001b[0msentence\u001b[0m \u001b[0;34m+=\u001b[0m \u001b[0mconstruct_sentence_from_parameters\u001b[0m\u001b[0;34m(\u001b[0m\u001b[0mparameters\u001b[0m\u001b[0;34m[\u001b[0m\u001b[0mparameter\u001b[0m\u001b[0;34m]\u001b[0m\u001b[0;34m,\u001b[0m \u001b[0msentence\u001b[0m\u001b[0;34m)\u001b[0m\u001b[0;34m\u001b[0m\u001b[0m\n\u001b[0m\u001b[1;32m     20\u001b[0m     \u001b[0;32mreturn\u001b[0m \u001b[0msentence\u001b[0m\u001b[0;34m\u001b[0m\u001b[0m\n\u001b[1;32m     21\u001b[0m \u001b[0;34m\u001b[0m\u001b[0m\n",
      "\u001b[0;32m<ipython-input-239-30592ea8d93e>\u001b[0m in \u001b[0;36mconstruct_sentence_from_parameters\u001b[0;34m(parameters, sentence)\u001b[0m\n\u001b[1;32m     17\u001b[0m                 \u001b[0msentence\u001b[0m \u001b[0;34m+=\u001b[0m \u001b[0;34m\" \"\u001b[0m \u001b[0;34m+\u001b[0m \u001b[0mparameter_name\u001b[0m \u001b[0;34m+\u001b[0m \u001b[0;34m\" \"\u001b[0m \u001b[0;34m+\u001b[0m \u001b[0mparameters\u001b[0m\u001b[0;34m[\u001b[0m\u001b[0mparameter\u001b[0m\u001b[0;34m]\u001b[0m \u001b[0;34m+\u001b[0m \u001b[0;34m\",\"\u001b[0m\u001b[0;34m\u001b[0m\u001b[0m\n\u001b[1;32m     18\u001b[0m             \u001b[0;32melse\u001b[0m\u001b[0;34m:\u001b[0m\u001b[0;34m\u001b[0m\u001b[0m\n\u001b[0;32m---> 19\u001b[0;31m                 \u001b[0msentence\u001b[0m \u001b[0;34m+=\u001b[0m \u001b[0mconstruct_sentence_from_parameters\u001b[0m\u001b[0;34m(\u001b[0m\u001b[0mparameters\u001b[0m\u001b[0;34m[\u001b[0m\u001b[0mparameter\u001b[0m\u001b[0;34m]\u001b[0m\u001b[0;34m,\u001b[0m \u001b[0msentence\u001b[0m\u001b[0;34m)\u001b[0m\u001b[0;34m\u001b[0m\u001b[0m\n\u001b[0m\u001b[1;32m     20\u001b[0m     \u001b[0;32mreturn\u001b[0m \u001b[0msentence\u001b[0m\u001b[0;34m\u001b[0m\u001b[0m\n\u001b[1;32m     21\u001b[0m \u001b[0;34m\u001b[0m\u001b[0m\n",
      "\u001b[0;32m<ipython-input-239-30592ea8d93e>\u001b[0m in \u001b[0;36mconstruct_sentence_from_parameters\u001b[0;34m(parameters, sentence)\u001b[0m\n\u001b[1;32m     12\u001b[0m                 \u001b[0msentence\u001b[0m \u001b[0;34m+=\u001b[0m \u001b[0mconstruct_sentence_from_parameters\u001b[0m\u001b[0;34m(\u001b[0m\u001b[0mparameter\u001b[0m\u001b[0;34m,\u001b[0m\u001b[0msentence\u001b[0m\u001b[0;34m)\u001b[0m \u001b[0;34m+\u001b[0m \u001b[0;34m\",\"\u001b[0m\u001b[0;34m\u001b[0m\u001b[0m\n\u001b[1;32m     13\u001b[0m     \u001b[0;32melse\u001b[0m\u001b[0;34m:\u001b[0m\u001b[0;34m\u001b[0m\u001b[0m\n\u001b[0;32m---> 14\u001b[0;31m         \u001b[0;32mfor\u001b[0m \u001b[0mparameter\u001b[0m \u001b[0;32min\u001b[0m \u001b[0mparameters\u001b[0m\u001b[0;34m:\u001b[0m\u001b[0;34m\u001b[0m\u001b[0m\n\u001b[0m\u001b[1;32m     15\u001b[0m             \u001b[0mparameter_name\u001b[0m  \u001b[0;34m=\u001b[0m \u001b[0mre\u001b[0m\u001b[0;34m.\u001b[0m\u001b[0msub\u001b[0m\u001b[0;34m(\u001b[0m\u001b[0;34mr\"([A-Z]+)\"\u001b[0m\u001b[0;34m,\u001b[0m \u001b[0;34m\"_\\g<1>\"\u001b[0m\u001b[0;34m,\u001b[0m \u001b[0mparameter\u001b[0m\u001b[0;34m)\u001b[0m\u001b[0;34m.\u001b[0m\u001b[0mlower\u001b[0m\u001b[0;34m(\u001b[0m\u001b[0;34m)\u001b[0m\u001b[0;34m\u001b[0m\u001b[0m\n\u001b[1;32m     16\u001b[0m             \u001b[0;32mif\u001b[0m \u001b[0mtype\u001b[0m\u001b[0;34m(\u001b[0m\u001b[0mparameters\u001b[0m\u001b[0;34m[\u001b[0m\u001b[0mparameter\u001b[0m\u001b[0;34m]\u001b[0m\u001b[0;34m)\u001b[0m \u001b[0;32mis\u001b[0m \u001b[0mstr\u001b[0m\u001b[0;34m:\u001b[0m\u001b[0;34m\u001b[0m\u001b[0m\n",
      "\u001b[0;31mTypeError\u001b[0m: 'int' object is not iterable"
     ]
    }
   ],
   "source": [
    "import re\n",
    "from datetime import datetime\n",
    "import time\n",
    "\n",
    "def construct_sentence_from_parameters(parameters, sentence):\n",
    "    if type(parameters) is list:\n",
    "        for parameter in parameters:\n",
    "            if type(parameter) is str:\n",
    "                parameter_name  = re.sub(r\"([A-Z]+)\", \"_\\g<1>\", parameter).lower()\n",
    "                sentence += \" \" + parameter_name + \" \" + parameter + \",\"\n",
    "            else:\n",
    "                sentence += construct_sentence_from_parameters(parameter,sentence) + \",\"\n",
    "    else:        \n",
    "        for parameter in parameters:\n",
    "            parameter_name  = re.sub(r\"([A-Z]+)\", \"_\\g<1>\", parameter).lower()\n",
    "            if type(parameters[parameter]) is str:\n",
    "                sentence += \" \" + parameter_name + \" \" + parameters[parameter] + \",\"\n",
    "            else:\n",
    "                sentence += construct_sentence_from_parameters(parameters[parameter], sentence)\n",
    "    return sentence\n",
    "\n",
    "for command in commands:\n",
    "    # generate an utterance that contains all of the command and all of the parameters\n",
    "    parameters = commands[command]()\n",
    "    sentence = construct_sentence_from_parameters(parameters, \"with\")\n",
    "    print(sentence)\n",
    "    "
   ]
  },
  {
   "cell_type": "code",
   "execution_count": 201,
   "metadata": {},
   "outputs": [
    {
     "data": {
      "text/plain": [
       "'withCarl Cochran,'"
      ]
     },
     "execution_count": 201,
     "metadata": {},
     "output_type": "execute_result"
    }
   ],
   "source": [
    "sentence"
   ]
  }
 ],
 "metadata": {
  "kernelspec": {
   "display_name": "Python 3",
   "language": "python",
   "name": "python3"
  },
  "language_info": {
   "codemirror_mode": {
    "name": "ipython",
    "version": 3
   },
   "file_extension": ".py",
   "mimetype": "text/x-python",
   "name": "python",
   "nbconvert_exporter": "python",
   "pygments_lexer": "ipython3",
   "version": "3.6.5"
  }
 },
 "nbformat": 4,
 "nbformat_minor": 2
}
