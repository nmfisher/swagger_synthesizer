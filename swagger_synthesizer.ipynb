{
 "cells": [
  {
   "cell_type": "code",
   "execution_count": null,
   "metadata": {},
   "outputs": [],
   "source": [
    "from swagger_parser import SwaggerParser\n",
    "\n",
    "parser = SwaggerParser(swagger_path='swagger.json')  # Init with file\n",
    "\n",
    "# Get an example of dict for the definition Foo\n",
    "parser.definitions_example.get('Pet')"
   ]
  },
  {
   "cell_type": "code",
   "execution_count": 1,
   "metadata": {},
   "outputs": [],
   "source": [
    "import json\n",
    "\n",
    "with open(\"swagger.json\",\"r\") as infile:\n",
    "    swagger = json.load(infile)"
   ]
  },
  {
   "cell_type": "code",
   "execution_count": 2,
   "metadata": {},
   "outputs": [],
   "source": [
    "from faker import Faker\n",
    "from chance import chance\n",
    "import random\n",
    "fake = Faker()\n",
    "\n"
   ]
  },
  {
   "cell_type": "code",
   "execution_count": 74,
   "metadata": {},
   "outputs": [],
   "source": [
    "property_generators = {\n",
    "    \"name\":lambda x: fake.name(),\n",
    "    \"date-time\": lambda x: fake.date_time(),\n",
    "    \"username\":lambda x: chance.email(),\n",
    "    \"email\": lambda x: chance.email(),\n",
    "    \"id\":lambda x: fake.uuid4(),\n",
    "    \"quantity\":lambda x: random.randint(0,100),\n",
    "    \"integer\":lambda x: random.randint(0,100),\n",
    "    \"bool\": lambda x: chance.boolean(),\n",
    "    \"boolean\": lambda x: chance.boolean(),\n",
    "    \"firstName\": lambda x: fake.name().split(\" \")[0],\n",
    "    \"lastName\": lambda x: fake.name().split(\" \")[-1],\n",
    "    \"password\": lambda x: fake.password(),\n",
    "    \"phone\": lambda x: fake.phone_number(),\n",
    "    \"url\": lambda x: chance.url(),\n",
    "    \"enum\": lambda x: random.choice(x[0][\"enum\"]),\n",
    "    \"array\": lambda x: [x[1] + str(i) for i in range(random.randint(1,10))],\n",
    "    \"$ref\": lambda x: list(generate(x[0][\"$ref\"].split(\"/\")[-1])),\n",
    "}\n",
    "\n",
    "object_generators = {}\n",
    "\n",
    "def generate_from_property_key(k, prop,prop_name):\n",
    "    #print(\"--\" + k)\n",
    "    if k in property_generators:\n",
    "        return property_generators[k]((prop,prop_name))\n",
    "    elif prop[k] in property_generators:\n",
    "        return property_generators[prop[k]]((prop,prop_name))\n",
    "    \n",
    "           \n",
    "def generate_property_value(prop, prop_name):    \n",
    "    if prop_name in property_generators:\n",
    "        val = property_generators[prop_name]((prop,prop_name))\n",
    "        if val is not None:\n",
    "            #print(\"---\" + str(val))\n",
    "            return val\n",
    "    \n",
    "    # iterate through object keys for the property\n",
    "    for key in prop.keys():\n",
    "        val = generate_from_property_key(key, prop, prop_name)\n",
    "        if val is not None:\n",
    "            #print(\"---\" + str(val))\n",
    "            return val\n",
    "        #else:\n",
    "            #print(\"---NONE\")\n",
    "    raise Exception(prop)\n",
    "\n",
    "def get_generator_for_definition(definition_name):\n",
    "    definition = swagger['definitions'][definition_name] \n",
    "    def object_generator():\n",
    "        instance = {}\n",
    "        \n",
    "        # iterate through properties \n",
    "        for prop_name in definition['properties']:\n",
    "            #print(\"-\" + prop_name)\n",
    "            prop = definition['properties'][prop_name]\n",
    "            try:\n",
    "                generated_prop = generate_property_value(prop, prop_name)\n",
    "            except Exception as e:\n",
    "                print(prop_name)\n",
    "                raise e\n",
    "            instance[prop_name] = generated_prop\n",
    "        yield instance\n",
    "    return object_generator\n",
    "    \n",
    "for definition_name in swagger[\"definitions\"]:\n",
    "    object_generators[definition_name] = get_generator_for_definition(definition_name)\n",
    "\n",
    "def generate(obj_name):\n",
    "    print(obj_name)\n",
    "    if obj_name not in object_generators:\n",
    "        raise Exception(\"Object \" + obj_name + \" is unknown\")\n",
    "    return object_generators[obj_name]()"
   ]
  },
  {
   "cell_type": "code",
   "execution_count": 72,
   "metadata": {},
   "outputs": [
    {
     "name": "stdout",
     "output_type": "stream",
     "text": [
      "Order\n"
     ]
    },
    {
     "data": {
      "text/plain": [
       "[{'id': '235c9c2e-3fe3-4889-9acb-c082305f277d',\n",
       "  'petId': 44,\n",
       "  'quantity': 77,\n",
       "  'shipDate': datetime.datetime(1996, 6, 24, 21, 14, 39),\n",
       "  'status': 'delivered',\n",
       "  'complete': True}]"
      ]
     },
     "execution_count": 72,
     "metadata": {},
     "output_type": "execute_result"
    }
   ],
   "source": [
    "list(generate(\"Order\"))"
   ]
  },
  {
   "cell_type": "code",
   "execution_count": 79,
   "metadata": {},
   "outputs": [
    {
     "name": "stdout",
     "output_type": "stream",
     "text": [
      "Pet\n",
      "Category\n",
      "{'id': 'ed045509-46c5-4d20-ba7c-ca665446d997', 'category': [{'id': 'b397dade-d308-47b6-8b3c-b05c48e49f84', 'name': 'Megan Wilson'}], 'name': 'Mark Ward', 'photoUrls': ['photoUrls0', 'photoUrls1', 'photoUrls2', 'photoUrls3', 'photoUrls4', 'photoUrls5', 'photoUrls6', 'photoUrls7'], 'tags': ['tags0'], 'status': 'available'}\n",
      "Pet\n",
      "Category\n",
      "{'id': '98713a7b-8eeb-42e1-9777-0d1f35e7cdf6', 'category': [{'id': '0aea3abe-2a31-4dd5-aba7-c5595995b5cd', 'name': 'Cathy Suarez'}], 'name': 'Thomas Underwood', 'photoUrls': ['photoUrls0'], 'tags': ['tags0', 'tags1', 'tags2', 'tags3', 'tags4', 'tags5', 'tags6', 'tags7', 'tags8'], 'status': 'sold'}\n",
      "['status0', 'status1', 'status2', 'status3', 'status4', 'status5']\n",
      "['tags0', 'tags1', 'tags2', 'tags3', 'tags4', 'tags5', 'tags6']\n"
     ]
    },
    {
     "ename": "KeyError",
     "evalue": "'items'",
     "output_type": "error",
     "traceback": [
      "\u001b[0;31m---------------------------------------------------------------------------\u001b[0m",
      "\u001b[0;31mKeyError\u001b[0m                                  Traceback (most recent call last)",
      "\u001b[0;32m<ipython-input-79-68b0135f2250>\u001b[0m in \u001b[0;36m<module>\u001b[0;34m\u001b[0m\n\u001b[1;32m     13\u001b[0m                     \u001b[0mobj\u001b[0m \u001b[0;34m=\u001b[0m \u001b[0mlist\u001b[0m\u001b[0;34m(\u001b[0m\u001b[0mgenerate\u001b[0m\u001b[0;34m(\u001b[0m\u001b[0mclazz\u001b[0m\u001b[0;34m)\u001b[0m\u001b[0;34m)\u001b[0m\u001b[0;34m\u001b[0m\u001b[0m\n\u001b[1;32m     14\u001b[0m             \u001b[0;32melif\u001b[0m \u001b[0mparam\u001b[0m\u001b[0;34m[\u001b[0m\u001b[0;34m\"in\"\u001b[0m\u001b[0;34m]\u001b[0m \u001b[0;34m==\u001b[0m \u001b[0;34m\"path\"\u001b[0m\u001b[0;34m:\u001b[0m\u001b[0;34m\u001b[0m\u001b[0m\n\u001b[0;32m---> 15\u001b[0;31m                 \u001b[0mobj\u001b[0m \u001b[0;34m=\u001b[0m \u001b[0mgenerate_from_property_key\u001b[0m\u001b[0;34m(\u001b[0m\u001b[0mparam\u001b[0m\u001b[0;34m[\u001b[0m\u001b[0;34m\"name\"\u001b[0m\u001b[0;34m]\u001b[0m\u001b[0;34m,\u001b[0m \u001b[0mparam\u001b[0m\u001b[0;34m,\u001b[0m \u001b[0mparam\u001b[0m\u001b[0;34m[\u001b[0m\u001b[0;34m\"items\"\u001b[0m\u001b[0;34m]\u001b[0m\u001b[0;34m)\u001b[0m\u001b[0;34m\u001b[0m\u001b[0m\n\u001b[0m\u001b[1;32m     16\u001b[0m             \u001b[0;32melif\u001b[0m \u001b[0mparam\u001b[0m\u001b[0;34m[\u001b[0m\u001b[0;34m\"in\"\u001b[0m\u001b[0;34m]\u001b[0m \u001b[0;34m==\u001b[0m \u001b[0;34m\"query\"\u001b[0m\u001b[0;34m:\u001b[0m\u001b[0;34m\u001b[0m\u001b[0m\n\u001b[1;32m     17\u001b[0m                 \u001b[0;32mif\u001b[0m \u001b[0mparam\u001b[0m\u001b[0;34m[\u001b[0m\u001b[0;34m\"type\"\u001b[0m\u001b[0;34m]\u001b[0m \u001b[0;34m==\u001b[0m \u001b[0;34m\"array\"\u001b[0m\u001b[0;34m:\u001b[0m\u001b[0;34m\u001b[0m\u001b[0m\n",
      "\u001b[0;31mKeyError\u001b[0m: 'items'"
     ]
    }
   ],
   "source": [
    "summaries = []\n",
    "for path_name in swagger[\"paths\"]:\n",
    "    path = swagger[\"paths\"][path_name]\n",
    "    for method in path:\n",
    "        summary = path[method][\"summary\"] if len(path[method][\"summary\"]) > 0 else path[method][\"description\"]\n",
    "        for param in path[method][\"parameters\"]:\n",
    "            if param[\"in\"] == \"body\":\n",
    "                if \"$ref\" in param[\"schema\"]:\n",
    "                    clazz = param[\"schema\"][\"$ref\"].split(\"/\")[-1]\n",
    "                    obj = list(generate(clazz))[0]\n",
    "                else:\n",
    "                    clazz = param[\"schema\"][\"items\"][\"$ref\"].split(\"/\")[-1]\n",
    "                    obj = list(generate(clazz))\n",
    "            elif param[\"in\"] == \"path\":\n",
    "                obj = generate_from_property_key(param[\"name\"], param, param[\"items\"])\n",
    "            elif param[\"in\"] == \"query\":\n",
    "                if param[\"type\"] == \"array\":\n",
    "                    if \"enum\" in param:\n",
    "                        obj = generate_from_property_key(\"enum\", param[\"items\"], None)\n",
    "                    else:\n",
    "                        obj = generate_from_property_key(\"array\", param, param[\"name\"])\n",
    "                else:\n",
    "                    raise Exception()    \n",
    "            else:\n",
    "                raise Exception()\n",
    "        print(obj)\n",
    "        summaries.append((summary, obj))        \n",
    "summaries"
   ]
  },
  {
   "cell_type": "code",
   "execution_count": 46,
   "metadata": {},
   "outputs": [
    {
     "data": {
      "text/plain": [
       "['Add a new pet to the store',\n",
       " 'Update an existing pet',\n",
       " 'Finds Pets by status',\n",
       " 'Finds Pets by tags',\n",
       " 'Find pet by ID',\n",
       " 'Updates a pet in the store with form data',\n",
       " 'Deletes a pet',\n",
       " 'uploads an image',\n",
       " 'Returns pet inventories by status',\n",
       " 'Place an order for a pet',\n",
       " 'Find purchase order by ID',\n",
       " 'Delete purchase order by ID',\n",
       " 'Create user',\n",
       " 'Creates list of users with given input array',\n",
       " 'Creates list of users with given input array',\n",
       " 'Logs user into the system',\n",
       " 'Logs out current logged in user session',\n",
       " 'Get user by user name',\n",
       " 'Updated user',\n",
       " 'Delete user']"
      ]
     },
     "execution_count": 46,
     "metadata": {},
     "output_type": "execute_result"
    }
   ],
   "source": []
  }
 ],
 "metadata": {
  "kernelspec": {
   "display_name": "Python 3",
   "language": "python",
   "name": "python3"
  },
  "language_info": {
   "codemirror_mode": {
    "name": "ipython",
    "version": 3
   },
   "file_extension": ".py",
   "mimetype": "text/x-python",
   "name": "python",
   "nbconvert_exporter": "python",
   "pygments_lexer": "ipython3",
   "version": "3.6.5"
  }
 },
 "nbformat": 4,
 "nbformat_minor": 2
}
