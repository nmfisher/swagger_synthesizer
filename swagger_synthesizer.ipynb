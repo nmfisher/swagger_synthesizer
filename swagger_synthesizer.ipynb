{
 "cells": [
  {
   "cell_type": "code",
   "execution_count": null,
   "metadata": {},
   "outputs": [],
   "source": [
    "from swagger_parser import SwaggerParser\n",
    "\n",
    "parser = SwaggerParser(swagger_path='swagger.json')  # Init with file\n",
    "\n",
    "# Get an example of dict for the definition Foo\n",
    "parser.definitions_example.get('Pet')"
   ]
  },
  {
   "cell_type": "code",
   "execution_count": 1,
   "metadata": {},
   "outputs": [],
   "source": [
    "import json\n",
    "\n",
    "with open(\"swagger.json\",\"r\") as infile:\n",
    "    swagger = json.load(infile)"
   ]
  },
  {
   "cell_type": "code",
   "execution_count": 2,
   "metadata": {},
   "outputs": [],
   "source": [
    "from faker import Faker\n",
    "from chance import chance\n",
    "import random\n",
    "fake = Faker()\n",
    "\n"
   ]
  },
  {
   "cell_type": "code",
   "execution_count": 38,
   "metadata": {},
   "outputs": [],
   "source": [
    "property_generators = {\n",
    "    \"name\":lambda x: fake.name(),\n",
    "    \"date-time\": lambda x: fake.date_time(),\n",
    "    \"username\":lambda x: chance.email(),\n",
    "    \"email\": lambda x: chance.email(),\n",
    "    \"id\":lambda x: fake.uuid4(),\n",
    "    \"quantity\":lambda x: random.randint(0,100),\n",
    "    \"integer\":lambda x: random.randint(0,100),\n",
    "    \"bool\": lambda x: chance.boolean(),\n",
    "    \"boolean\": lambda x: chance.boolean(),\n",
    "    \"firstname\": lambda x: fake.name().split(\" \")[0],\n",
    "    \"lastname\": lambda x: fake.name().split(\" \")[-1],\n",
    "    \"password\": lambda x: fake.password(),\n",
    "    \"phone\": lambda x: fake.phone_number(),\n",
    "    \"url\": lambda x: chance.url(),\n",
    "    \"enum\": lambda x: random.choice(x[0][\"enum\"]),\n",
    "    \"array\": lambda x: [x[1] + str(i) for i in range(random.randint(1,10))],\n",
    "    \"$ref\": lambda x: list(generate(x[0][\"$ref\"].split(\"/\")[-1])),\n",
    "}\n",
    "\n",
    "object_generators = {}\n",
    "\n",
    "def generate_from_property_key(k, prop,prop_name):\n",
    "    print(\"--\" + k)\n",
    "    if k in property_generators:\n",
    "        return property_generators[k]((prop,prop_name))\n",
    "    elif prop[k] in property_generators:\n",
    "        return property_generators[prop[k]]((prop,prop_name))\n",
    "    \n",
    "           \n",
    "def generate_property_value(prop, prop_name):    \n",
    "    if prop_name in property_generators:\n",
    "        val = property_generators[prop_name]((prop,prop_name))\n",
    "        if val is not None:\n",
    "            print(\"---\" + str(val))\n",
    "            return val\n",
    "    \n",
    "    # iterate through object keys for the property\n",
    "    for key in prop.keys():\n",
    "        val = generate_from_property_key(key, prop, prop_name)\n",
    "        if val is not None:\n",
    "            print(\"---\" + str(val))\n",
    "            return val\n",
    "        else:\n",
    "            print(\"---NONE\")\n",
    "    raise Exception(prop)\n",
    "\n",
    "def get_generator_for_definition(definition_name):\n",
    "    definition = swagger['definitions'][definition_name] \n",
    "    def object_generator():\n",
    "        instance = {}\n",
    "        \n",
    "        # iterate through properties \n",
    "        for prop_name in definition['properties']:\n",
    "            print(\"-\" + prop_name)\n",
    "            prop = definition['properties'][prop_name]\n",
    "            try:\n",
    "                generated_prop = generate_property_value(prop, prop_name)\n",
    "            except Exception as e:\n",
    "                print(prop_name)\n",
    "                raise e\n",
    "            instance[prop_name] = generated_prop\n",
    "        yield instance\n",
    "    return object_generator\n",
    "    \n",
    "for definition_name in swagger[\"definitions\"]:\n",
    "    object_generators[definition_name] = get_generator_for_definition(definition_name)\n",
    "\n",
    "def generate(obj_name):\n",
    "    if obj_name not in object_generators:\n",
    "        raise Exception(\"Object \" + obj_name + \" is unknown\")\n",
    "    return object_generators[obj_name]()"
   ]
  },
  {
   "cell_type": "code",
   "execution_count": 40,
   "metadata": {},
   "outputs": [
    {
     "name": "stdout",
     "output_type": "stream",
     "text": [
      "-id\n",
      "---82903d7f-3b24-4860-9bf3-212028c08173\n",
      "-petId\n",
      "--type\n",
      "---100\n",
      "-quantity\n",
      "---67\n",
      "-shipDate\n",
      "--type\n",
      "---NONE\n",
      "--format\n",
      "---2017-04-21 14:37:09\n",
      "-status\n",
      "--type\n",
      "---NONE\n",
      "--description\n",
      "---NONE\n",
      "--enum\n",
      "---approved\n",
      "-complete\n",
      "--type\n",
      "---True\n"
     ]
    },
    {
     "data": {
      "text/plain": [
       "[{'id': '82903d7f-3b24-4860-9bf3-212028c08173',\n",
       "  'petId': 100,\n",
       "  'quantity': 67,\n",
       "  'shipDate': datetime.datetime(2017, 4, 21, 14, 37, 9),\n",
       "  'status': 'approved',\n",
       "  'complete': True}]"
      ]
     },
     "execution_count": 40,
     "metadata": {},
     "output_type": "execute_result"
    }
   ],
   "source": [
    "list(generate(\"Order\"))"
   ]
  }
 ],
 "metadata": {
  "kernelspec": {
   "display_name": "Python 3",
   "language": "python",
   "name": "python3"
  },
  "language_info": {
   "codemirror_mode": {
    "name": "ipython",
    "version": 3
   },
   "file_extension": ".py",
   "mimetype": "text/x-python",
   "name": "python",
   "nbconvert_exporter": "python",
   "pygments_lexer": "ipython3",
   "version": "3.6.5"
  }
 },
 "nbformat": 4,
 "nbformat_minor": 2
}
