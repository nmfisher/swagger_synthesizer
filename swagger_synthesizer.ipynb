{
 "cells": [
  {
   "cell_type": "code",
   "execution_count": null,
   "metadata": {},
   "outputs": [],
   "source": [
    "from swagger_parser import SwaggerParser\n",
    "\n",
    "parser = SwaggerParser(swagger_path='swagger.json')  # Init with file\n",
    "\n",
    "# Get an example of dict for the definition Foo\n",
    "parser.definitions_example.get('Pet')"
   ]
  },
  {
   "cell_type": "code",
   "execution_count": 2,
   "metadata": {
    "collapsed": true
   },
   "outputs": [],
   "source": [
    "import json\n",
    "\n",
    "with open(\"swagger.json\",\"r\") as infile:\n",
    "    swagger = json.load(infile)"
   ]
  },
  {
   "cell_type": "code",
   "execution_count": 3,
   "metadata": {
    "collapsed": true
   },
   "outputs": [],
   "source": [
    "from faker import Faker\n",
    "from chance import chance\n",
    "import random\n",
    "fake = Faker()\n"
   ]
  },
  {
   "cell_type": "code",
   "execution_count": 168,
   "metadata": {
    "collapsed": true
   },
   "outputs": [],
   "source": [
    "property_generators = {\n",
    "    \"date-time\": lambda: fake.date_time(),\n",
    "    \"username\":lambda: chance.email(),\n",
    "    \"email\": lambda: chance.email(),\n",
    "    \"id\":lambda: fake.uuid4(),\n",
    "    \"quantity\":lambda: random.randint(0,100),\n",
    "    \"int\":lambda: random.randint(0,100),\n",
    "    \"integer\":lambda: random.randint(0,100),\n",
    "    \"bool\": lambda: chance.boolean(),\n",
    "    \"boolean\": lambda: chance.boolean(),\n",
    "    \"firstName\": lambda: fake.name().split(\" \")[0],\n",
    "    \"lastName\": lambda: fake.name().split(\" \")[-1],\n",
    "    \"password\": lambda: fake.password(),\n",
    "    \"phone\": lambda: fake.phone_number(),\n",
    "    \"url\": lambda: chance.url(),\n",
    "    \"photoUrls\": lambda: chance.url(),\n",
    "    \"status\": lambda: \"dead\" # this is malformed\n",
    "}\n",
    "\n",
    "\n",
    "def generate_from_schema(schema_string, name):\n",
    "    return lambda: list(generate(schema_string.split(\"/\")[-1]))[0]\n",
    "\n",
    "def generate_array_from_schema(schema_string, name):\n",
    "    return lambda: [generate_from_schema(schema_string, name)() for x in range(random.randint(0,10))]\n",
    "\n",
    "def generate_from_enum(enum):\n",
    "    return lambda: random.choice(enum)\n",
    "\n",
    "def generate_array_from_enum(enum):\n",
    "    return lambda: [generate_from_enum(enum)() for x in range(random.randint(0,10))]\n",
    "\n",
    "def generate_prop_from_name(name):\n",
    "    return lambda: property_generators[name]() if name in property_generators else name + str(random.randint(0,10))\n",
    "\n",
    "def generate_array_from_name(name):\n",
    "    return lambda: [generate_prop_from_name(name)() for x in range(random.randint(0,10))]\n",
    "\n",
    "def generate_prop_from_type(typ):\n",
    "    return lambda:  property_generators[typ]() \n",
    "\n",
    "def generate_array_from_type(typ):\n",
    "    return lambda:  [property_generators[typ]()]\n",
    "\n",
    "def transform_instance_from_schema_to_nested(generator, prop_name):\n",
    "    generated = generator()\n",
    "    keys = list(generated.keys())\n",
    "    for k in keys:\n",
    "        generated[prop_name + \"_\" + k] = generated[k]\n",
    "        del generated[k]\n",
    "    return generated\n",
    "    \n",
    "def get_parameter_generator_from_definition_property(prop_name, prop_val):\n",
    "    if \"$ref\" in prop_val:\n",
    "        generated = generate_from_schema(prop_val[\"$ref\"], prop_name)\n",
    "        return lambda: transform_instance_from_schema_to_nested(generated, prop_name)\n",
    "    elif prop_val[\"type\"] == \"array\" and \"enum\" in prop_val[\"items\"]:\n",
    "        return generate_array_from_enum(prop_val[\"items\"][\"enum\"])\n",
    "    elif prop_val[\"type\"] == \"array\" and \"type\" in prop_val[\"items\"] and prop_val[\"items\"][\"type\"] == \"string\":\n",
    "        return generate_array_from_name(prop_name)\n",
    "    elif prop_val[\"type\"] == \"array\" and \"type\" in prop_val[\"items\"] and prop_val[\"items\"][\"type\"] == \"integer\":\n",
    "        return generate_array_from_type(prop_val[\"items\"][\"type\"])\n",
    "    elif prop_val[\"type\"] == \"array\" and \"$ref\" in prop_val[\"items\"]:\n",
    "        return generate_array_from_schema(prop_val[\"items\"][\"$ref\"], prop_name)\n",
    "    elif prop_val[\"type\"] == \"string\" and \"enum\" in prop_val:\n",
    "        return generate_from_enum(prop_val[\"enum\"])\n",
    "    elif prop_val[\"type\"] == \"string\":\n",
    "        return generate_prop_from_name(prop_name)\n",
    "    elif prop_val[\"type\"] in [\"int\", \"integer\", \"bool\", \"boolean\"]:\n",
    "        return generate_prop_from_type(prop_val[\"type\"])\n",
    "    else:\n",
    "        print(prop_val)\n",
    "        raise Exception(prop_name)\n",
    "\n",
    "def get_command_parameter_generator_from_method_param(param):\n",
    "    if \"schema\" in param:\n",
    "        if \"$ref\" in param[\"schema\"]:\n",
    "            return generate_from_schema(param[\"schema\"][\"$ref\"], param[\"name\"])\n",
    "        elif param[\"schema\"][\"type\"] == \"array\":\n",
    "            return generate_array_from_schema(param[\"schema\"][\"items\"][\"$ref\"], param[\"name\"])\n",
    "        else: \n",
    "            raise Exception()\n",
    "    elif \"$ref\" in param:\n",
    "        return generate_from_schema(param[\"$ref\"], param[\"name\"])\n",
    "    elif param[\"type\"] == \"array\" and \"enum\" in param[\"items\"]:\n",
    "        return generate_array_from_enum(param[\"items\"][\"enum\"])\n",
    "    elif param[\"type\"] == \"array\" and param[\"items\"][\"type\"] == \"string\":\n",
    "        return generate_array_from_name(param[\"name\"])\n",
    "    elif param[\"type\"] == \"string\" and \"enum\" in param:\n",
    "        return generate_from_enum(param[\"enum\"])\n",
    "    elif param[\"type\"] == \"string\":\n",
    "        return generate_prop_from_name(param[\"name\"])\n",
    "    elif param[\"type\"] == \"int\" or param[\"type\"] == \"integer\":\n",
    "        return generate_prop_from_type(param[\"type\"])\n",
    "    elif param[\"type\"] == \"file\":\n",
    "        return None\n",
    "    else:\n",
    "        raise Exception(param)"
   ]
  },
  {
   "cell_type": "code",
   "execution_count": 169,
   "metadata": {},
   "outputs": [
    {
     "data": {
      "text/plain": [
       "[{'id': 32,\n",
       "  'category': {'category_id': 92, 'category_name': 'foo'},\n",
       "  'name': 'foo',\n",
       "  'photoUrls': ['pawhinow.org/najuhu/latop/holulu/mudso',\n",
       "   'zegemem.gov/mupo/dulubo/jobnuble/coserlu/jifla',\n",
       "   'solop.edu/poce/bogehdi/tufceca/jefge/duwuba',\n",
       "   'cogow.io/pocvov/rodmudi/lazzewkum/vecove/guwo/ruhaze',\n",
       "   'wafla.io/hihtubfap/vezocpo/fessa/tatde/rujev',\n",
       "   'simadmu.org/doclogna/rowsudkoc/vijbicreh/guzejpi/wewomzi/bahpanef',\n",
       "   'zamu.edu/mukuhnos/hevhep/lizsu/kablopzuw/mariw/tifguv',\n",
       "   'tipgice.org/hesegeh/tekvidzon/cihi/jokciha/zurani'],\n",
       "  'tags': [{'id': 1, 'name': 'foo'},\n",
       "   {'id': 15, 'name': 'foo'},\n",
       "   {'id': 10, 'name': 'foo'},\n",
       "   {'id': 85, 'name': 'foo'},\n",
       "   {'id': 93, 'name': 'foo'},\n",
       "   {'id': 94, 'name': 'foo'},\n",
       "   {'id': 60, 'name': 'foo'},\n",
       "   {'id': 66, 'name': 'foo'}],\n",
       "  'status': 'available'}]"
      ]
     },
     "execution_count": 169,
     "metadata": {},
     "output_type": "execute_result"
    }
   ],
   "source": [
    "object_generators = {}\n",
    "\n",
    "def get_generator_for_definition(definition_name):\n",
    "    definition = swagger['definitions'][definition_name] \n",
    "    def object_generator():\n",
    "        instance = {}       \n",
    "        # iterate through properties \n",
    "        for prop_name in definition['properties']:\n",
    "            val_gen = get_parameter_generator_from_definition_property(prop_name, definition['properties'][prop_name])\n",
    "            instance[prop_name] = val_gen() if val_gen is not None else None\n",
    "        yield instance\n",
    "    return object_generator\n",
    "    \n",
    "for definition_name in swagger[\"definitions\"]:\n",
    "    object_generators[definition_name] = get_generator_for_definition(definition_name)\n",
    "\n",
    "def generate(obj_name):\n",
    "    if obj_name not in object_generators:\n",
    "        raise Exception(\"Object \" + obj_name + \" is unknown\")\n",
    "    return object_generators[obj_name]()\n",
    "\n",
    "list(generate(\"Pet\"))"
   ]
  },
  {
   "cell_type": "code",
   "execution_count": 170,
   "metadata": {
    "scrolled": true
   },
   "outputs": [
    {
     "data": {
      "text/plain": [
       "{'Add a new pet to the store': ('body',\n",
       "  <function __main__.generate_from_schema.<locals>.<lambda>()>),\n",
       " 'Update an existing pet': ('body',\n",
       "  <function __main__.generate_from_schema.<locals>.<lambda>()>),\n",
       " 'Finds Pets by status': ('status',\n",
       "  <function __main__.generate_array_from_enum.<locals>.<lambda>()>),\n",
       " 'Finds Pets by tags': ('tags',\n",
       "  <function __main__.generate_array_from_name.<locals>.<lambda>()>),\n",
       " 'Find pet by ID': ('petId',\n",
       "  <function __main__.generate_prop_from_type.<locals>.<lambda>()>),\n",
       " 'Updates a pet in the store with form data': ('status',\n",
       "  <function __main__.generate_prop_from_name.<locals>.<lambda>()>),\n",
       " 'Deletes a pet': ('petId',\n",
       "  <function __main__.generate_prop_from_type.<locals>.<lambda>()>),\n",
       " 'uploads an image': ('file', None),\n",
       " 'Place an order for a pet': ('body',\n",
       "  <function __main__.generate_from_schema.<locals>.<lambda>()>),\n",
       " 'Find purchase order by ID': ('orderId',\n",
       "  <function __main__.generate_prop_from_type.<locals>.<lambda>()>),\n",
       " 'Delete purchase order by ID': ('orderId',\n",
       "  <function __main__.generate_prop_from_type.<locals>.<lambda>()>),\n",
       " 'Create user': ('body',\n",
       "  <function __main__.generate_from_schema.<locals>.<lambda>()>),\n",
       " 'Creates list of users with given input array': ('body',\n",
       "  <function __main__.generate_array_from_schema.<locals>.<lambda>()>),\n",
       " 'Logs user into the system': ('password',\n",
       "  <function __main__.generate_prop_from_name.<locals>.<lambda>()>),\n",
       " 'Get user by user name': ('username',\n",
       "  <function __main__.generate_prop_from_name.<locals>.<lambda>()>),\n",
       " 'Updated user': ('body',\n",
       "  <function __main__.generate_from_schema.<locals>.<lambda>()>),\n",
       " 'Delete user': ('username',\n",
       "  <function __main__.generate_prop_from_name.<locals>.<lambda>()>)}"
      ]
     },
     "execution_count": 170,
     "metadata": {},
     "output_type": "execute_result"
    }
   ],
   "source": [
    "commands = {}\n",
    "for path_name in swagger[\"paths\"]:\n",
    "    path = swagger[\"paths\"][path_name]\n",
    "    for method in path:\n",
    "        command = path[method][\"summary\"] if len(path[method][\"summary\"]) > 0 else path[method][\"description\"]\n",
    "        for param in path[method][\"parameters\"]:\n",
    "            if param[\"in\"] == \"header\":\n",
    "                continue\n",
    "            commands[command] = (param[\"name\"],get_command_parameter_generator_from_method_param(param))\n",
    "commands"
   ]
  },
  {
   "cell_type": "code",
   "execution_count": 171,
   "metadata": {},
   "outputs": [],
   "source": [
    "for command in commands:\n",
    "    if commands[command][1] is not None:\n",
    "        invoked = commands[command][1]()\n",
    "        if type(invoked) is list and any([x is None for x in invoked]): \n",
    "            print(command)\n",
    "            print(invoked)"
   ]
  },
  {
   "cell_type": "code",
   "execution_count": 172,
   "metadata": {
    "scrolled": false
   },
   "outputs": [
    {
     "name": "stdout",
     "output_type": "stream",
     "text": [
      "Add a new pet to the store with id 87, category 83, name foo, photoUrls ,tags foo,foo,foo,foo,status available, \n",
      "Update an existing pet with id 40, category foo, name foo, photoUrls bucu.edu/vuthulca/vijzem/benodib/puzni/fife/vofotet,sosep.org/varupro/kulas/cetub/cojpu,tags foo,status sold, \n",
      "Finds Pets by status with status sold,pending,available,pending,available,available,sold,\n",
      "Finds Pets by tags with tags tags6,tags4,tags2,tags5,tags6,tags5,tags3,tags2,\n",
      "Find pet by ID with , petId 100\n",
      "Updates a pet in the store with form data with , status dead\n",
      "Deletes a pet with , petId 30\n",
      "uploads an image with \n",
      "Place an order for a pet with id 26, petId 18, quantity 40, shipDate shipDate9, status placed, complete False, \n",
      "Find purchase order by ID with , orderId 8\n",
      "Delete purchase order by ID with , orderId 59\n",
      "Create user with id 43, username pevoge@jilihi.org, firstName Peter, lastName Meza, email hevmovas@fibegde.co.uk, password G(LE7Ivg!J, phone 001-596-031-1071x456, userStatus 15, \n",
      "Creates list of users with given input array with body refwo@mokig.net,&y&NJOgbt3,%eaTEsfz0g,Samantha,^i6IeNu!%H,\n",
      "Logs user into the system with , password R@f97Vr8!8\n",
      "Get user by user name with , username zagukfo@zeli.edu\n",
      "Updated user with id 95, username dohabaw@gazepe.io, firstName Adam, lastName Evans, email kefded@kojmi.net, password c&_1GZyZ#H, phone 410.011.9037x30045, userStatus 72, \n",
      "Delete user with , username gihi@domefu.net\n"
     ]
    }
   ],
   "source": [
    "import re\n",
    "from datetime import datetime\n",
    "import time\n",
    "\n",
    "def random_prop(obj):\n",
    "    return str(obj[random.choice(list(obj.keys()))])\n",
    "    \n",
    "\n",
    "def construct_sentence_from_generated_method_parameters(parameter_name, parameter_val, sentence):\n",
    "    if type(parameter_val) is list:\n",
    "        parameter_val = [p if p is not None else \"\" for p in parameter_val]\n",
    "        pstring = \",\".join([random_prop(pv) if type(pv) is dict else pv for pv in parameter_val])\n",
    "        sentence += parameter_name + \" \" + pstring + \",\"\n",
    "    elif type(parameter_val) is str or type(parameter_val) is bool or type(parameter_val) is int:\n",
    "        sentence += \", \" + parameter_name + \" \" + str(parameter_val)\n",
    "    else:        \n",
    "        if parameter_val is None:\n",
    "            return sentence\n",
    "        for k in parameter_val:\n",
    "            if type(parameter_val[k]) is dict:\n",
    "                sentence += k + \" \" + str(random_prop(parameter_val[k])) + \", \"\n",
    "            elif type(parameter_val[k]) is list:\n",
    "                pstring = \",\".join([pv[\"name\"] if type(pv) is dict else pv for pv in parameter_val[k]])\n",
    "                sentence += k + \" \" + pstring + \",\"\n",
    "            else:\n",
    "                sentence += k + \" \" + str(parameter_val[k]) + \", \"\n",
    "    return sentence\n",
    "\n",
    "for command in commands:\n",
    "    # generate an utterance that contains all of the command and all of the parameters\n",
    "    parameter_name = commands[command][0]\n",
    "    parameter_val = commands[command][1]() if commands[command][1] is not None else None\n",
    "    sentence = construct_sentence_from_generated_method_parameters(parameter_name, parameter_val, command + \" with \")    \n",
    "    print(sentence)"
   ]
  },
  {
   "cell_type": "code",
   "execution_count": null,
   "metadata": {},
   "outputs": [],
   "source": [
    "sentence"
   ]
  }
 ],
 "metadata": {
  "kernelspec": {
   "display_name": "Python 3",
   "language": "python",
   "name": "python3"
  },
  "language_info": {
   "codemirror_mode": {
    "name": "ipython",
    "version": 3
   },
   "file_extension": ".py",
   "mimetype": "text/x-python",
   "name": "python",
   "nbconvert_exporter": "python",
   "pygments_lexer": "ipython3",
   "version": "3.6.5"
  }
 },
 "nbformat": 4,
 "nbformat_minor": 2
}
